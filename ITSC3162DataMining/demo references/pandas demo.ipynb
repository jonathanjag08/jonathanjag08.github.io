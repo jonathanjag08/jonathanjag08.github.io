{
 "cells": [
  {
   "cell_type": "markdown",
   "metadata": {},
   "source": [
    "# Pandas and Visualizaion Demo!\n"
   ]
  },
  {
   "cell_type": "code",
   "execution_count": 2,
   "metadata": {},
   "outputs": [
    {
     "name": "stdout",
     "output_type": "stream",
     "text": [
      "Requirement already satisfied: notebook in /Users/jonathanjagdon/Desktop/ITSC3162DataMining/.venv/lib/python3.9/site-packages (7.4.5)\n",
      "Requirement already satisfied: jupyter-server<3,>=2.4.0 in /Users/jonathanjagdon/Desktop/ITSC3162DataMining/.venv/lib/python3.9/site-packages (from notebook) (2.17.0)\n",
      "Requirement already satisfied: jupyterlab-server<3,>=2.27.1 in /Users/jonathanjagdon/Desktop/ITSC3162DataMining/.venv/lib/python3.9/site-packages (from notebook) (2.27.3)\n",
      "Requirement already satisfied: jupyterlab<4.5,>=4.4.5 in /Users/jonathanjagdon/Desktop/ITSC3162DataMining/.venv/lib/python3.9/site-packages (from notebook) (4.4.6)\n",
      "Requirement already satisfied: notebook-shim<0.3,>=0.2 in /Users/jonathanjagdon/Desktop/ITSC3162DataMining/.venv/lib/python3.9/site-packages (from notebook) (0.2.4)\n",
      "Requirement already satisfied: tornado>=6.2.0 in /Users/jonathanjagdon/Desktop/ITSC3162DataMining/.venv/lib/python3.9/site-packages (from notebook) (6.5.2)\n",
      "Requirement already satisfied: anyio>=3.1.0 in /Users/jonathanjagdon/Desktop/ITSC3162DataMining/.venv/lib/python3.9/site-packages (from jupyter-server<3,>=2.4.0->notebook) (4.10.0)\n",
      "Requirement already satisfied: argon2-cffi>=21.1 in /Users/jonathanjagdon/Desktop/ITSC3162DataMining/.venv/lib/python3.9/site-packages (from jupyter-server<3,>=2.4.0->notebook) (25.1.0)\n",
      "Requirement already satisfied: jinja2>=3.0.3 in /Users/jonathanjagdon/Desktop/ITSC3162DataMining/.venv/lib/python3.9/site-packages (from jupyter-server<3,>=2.4.0->notebook) (3.1.6)\n",
      "Requirement already satisfied: jupyter-client>=7.4.4 in /Users/jonathanjagdon/Desktop/ITSC3162DataMining/.venv/lib/python3.9/site-packages (from jupyter-server<3,>=2.4.0->notebook) (8.6.3)\n",
      "Requirement already satisfied: jupyter-core!=5.0.*,>=4.12 in /Users/jonathanjagdon/Desktop/ITSC3162DataMining/.venv/lib/python3.9/site-packages (from jupyter-server<3,>=2.4.0->notebook) (5.8.1)\n",
      "Requirement already satisfied: jupyter-events>=0.11.0 in /Users/jonathanjagdon/Desktop/ITSC3162DataMining/.venv/lib/python3.9/site-packages (from jupyter-server<3,>=2.4.0->notebook) (0.12.0)\n",
      "Requirement already satisfied: jupyter-server-terminals>=0.4.4 in /Users/jonathanjagdon/Desktop/ITSC3162DataMining/.venv/lib/python3.9/site-packages (from jupyter-server<3,>=2.4.0->notebook) (0.5.3)\n",
      "Requirement already satisfied: nbconvert>=6.4.4 in /Users/jonathanjagdon/Desktop/ITSC3162DataMining/.venv/lib/python3.9/site-packages (from jupyter-server<3,>=2.4.0->notebook) (7.16.6)\n",
      "Requirement already satisfied: nbformat>=5.3.0 in /Users/jonathanjagdon/Desktop/ITSC3162DataMining/.venv/lib/python3.9/site-packages (from jupyter-server<3,>=2.4.0->notebook) (5.10.4)\n",
      "Requirement already satisfied: overrides>=5.0 in /Users/jonathanjagdon/Desktop/ITSC3162DataMining/.venv/lib/python3.9/site-packages (from jupyter-server<3,>=2.4.0->notebook) (7.7.0)\n",
      "Requirement already satisfied: packaging>=22.0 in /Users/jonathanjagdon/Desktop/ITSC3162DataMining/.venv/lib/python3.9/site-packages (from jupyter-server<3,>=2.4.0->notebook) (25.0)\n",
      "Requirement already satisfied: prometheus-client>=0.9 in /Users/jonathanjagdon/Desktop/ITSC3162DataMining/.venv/lib/python3.9/site-packages (from jupyter-server<3,>=2.4.0->notebook) (0.22.1)\n",
      "Requirement already satisfied: pyzmq>=24 in /Users/jonathanjagdon/Desktop/ITSC3162DataMining/.venv/lib/python3.9/site-packages (from jupyter-server<3,>=2.4.0->notebook) (27.0.2)\n",
      "Requirement already satisfied: send2trash>=1.8.2 in /Users/jonathanjagdon/Desktop/ITSC3162DataMining/.venv/lib/python3.9/site-packages (from jupyter-server<3,>=2.4.0->notebook) (1.8.3)\n",
      "Requirement already satisfied: terminado>=0.8.3 in /Users/jonathanjagdon/Desktop/ITSC3162DataMining/.venv/lib/python3.9/site-packages (from jupyter-server<3,>=2.4.0->notebook) (0.18.1)\n",
      "Requirement already satisfied: traitlets>=5.6.0 in /Users/jonathanjagdon/Desktop/ITSC3162DataMining/.venv/lib/python3.9/site-packages (from jupyter-server<3,>=2.4.0->notebook) (5.14.3)\n",
      "Requirement already satisfied: websocket-client>=1.7 in /Users/jonathanjagdon/Desktop/ITSC3162DataMining/.venv/lib/python3.9/site-packages (from jupyter-server<3,>=2.4.0->notebook) (1.8.0)\n",
      "Requirement already satisfied: async-lru>=1.0.0 in /Users/jonathanjagdon/Desktop/ITSC3162DataMining/.venv/lib/python3.9/site-packages (from jupyterlab<4.5,>=4.4.5->notebook) (2.0.5)\n",
      "Requirement already satisfied: httpx<1,>=0.25.0 in /Users/jonathanjagdon/Desktop/ITSC3162DataMining/.venv/lib/python3.9/site-packages (from jupyterlab<4.5,>=4.4.5->notebook) (0.28.1)\n",
      "Requirement already satisfied: importlib-metadata>=4.8.3 in /Users/jonathanjagdon/Desktop/ITSC3162DataMining/.venv/lib/python3.9/site-packages (from jupyterlab<4.5,>=4.4.5->notebook) (8.7.0)\n",
      "Requirement already satisfied: ipykernel!=6.30.0,>=6.5.0 in /Users/jonathanjagdon/Desktop/ITSC3162DataMining/.venv/lib/python3.9/site-packages (from jupyterlab<4.5,>=4.4.5->notebook) (6.30.1)\n",
      "Requirement already satisfied: jupyter-lsp>=2.0.0 in /Users/jonathanjagdon/Desktop/ITSC3162DataMining/.venv/lib/python3.9/site-packages (from jupyterlab<4.5,>=4.4.5->notebook) (2.2.6)\n",
      "Requirement already satisfied: setuptools>=41.1.0 in /Users/jonathanjagdon/Desktop/ITSC3162DataMining/.venv/lib/python3.9/site-packages (from jupyterlab<4.5,>=4.4.5->notebook) (58.0.4)\n",
      "Requirement already satisfied: tomli>=1.2.2 in /Users/jonathanjagdon/Desktop/ITSC3162DataMining/.venv/lib/python3.9/site-packages (from jupyterlab<4.5,>=4.4.5->notebook) (2.2.1)\n",
      "Requirement already satisfied: certifi in /Users/jonathanjagdon/Desktop/ITSC3162DataMining/.venv/lib/python3.9/site-packages (from httpx<1,>=0.25.0->jupyterlab<4.5,>=4.4.5->notebook) (2025.8.3)\n",
      "Requirement already satisfied: httpcore==1.* in /Users/jonathanjagdon/Desktop/ITSC3162DataMining/.venv/lib/python3.9/site-packages (from httpx<1,>=0.25.0->jupyterlab<4.5,>=4.4.5->notebook) (1.0.9)\n",
      "Requirement already satisfied: idna in /Users/jonathanjagdon/Desktop/ITSC3162DataMining/.venv/lib/python3.9/site-packages (from httpx<1,>=0.25.0->jupyterlab<4.5,>=4.4.5->notebook) (3.10)\n",
      "Requirement already satisfied: h11>=0.16 in /Users/jonathanjagdon/Desktop/ITSC3162DataMining/.venv/lib/python3.9/site-packages (from httpcore==1.*->httpx<1,>=0.25.0->jupyterlab<4.5,>=4.4.5->notebook) (0.16.0)\n",
      "Requirement already satisfied: babel>=2.10 in /Users/jonathanjagdon/Desktop/ITSC3162DataMining/.venv/lib/python3.9/site-packages (from jupyterlab-server<3,>=2.27.1->notebook) (2.17.0)\n",
      "Requirement already satisfied: json5>=0.9.0 in /Users/jonathanjagdon/Desktop/ITSC3162DataMining/.venv/lib/python3.9/site-packages (from jupyterlab-server<3,>=2.27.1->notebook) (0.12.1)\n",
      "Requirement already satisfied: jsonschema>=4.18.0 in /Users/jonathanjagdon/Desktop/ITSC3162DataMining/.venv/lib/python3.9/site-packages (from jupyterlab-server<3,>=2.27.1->notebook) (4.25.1)\n",
      "Requirement already satisfied: requests>=2.31 in /Users/jonathanjagdon/Desktop/ITSC3162DataMining/.venv/lib/python3.9/site-packages (from jupyterlab-server<3,>=2.27.1->notebook) (2.32.5)\n",
      "Requirement already satisfied: exceptiongroup>=1.0.2 in /Users/jonathanjagdon/Desktop/ITSC3162DataMining/.venv/lib/python3.9/site-packages (from anyio>=3.1.0->jupyter-server<3,>=2.4.0->notebook) (1.3.0)\n",
      "Requirement already satisfied: sniffio>=1.1 in /Users/jonathanjagdon/Desktop/ITSC3162DataMining/.venv/lib/python3.9/site-packages (from anyio>=3.1.0->jupyter-server<3,>=2.4.0->notebook) (1.3.1)\n",
      "Requirement already satisfied: typing_extensions>=4.5 in /Users/jonathanjagdon/Desktop/ITSC3162DataMining/.venv/lib/python3.9/site-packages (from anyio>=3.1.0->jupyter-server<3,>=2.4.0->notebook) (4.15.0)\n",
      "Requirement already satisfied: argon2-cffi-bindings in /Users/jonathanjagdon/Desktop/ITSC3162DataMining/.venv/lib/python3.9/site-packages (from argon2-cffi>=21.1->jupyter-server<3,>=2.4.0->notebook) (25.1.0)\n",
      "Requirement already satisfied: zipp>=3.20 in /Users/jonathanjagdon/Desktop/ITSC3162DataMining/.venv/lib/python3.9/site-packages (from importlib-metadata>=4.8.3->jupyterlab<4.5,>=4.4.5->notebook) (3.23.0)\n",
      "Requirement already satisfied: appnope>=0.1.2 in /Users/jonathanjagdon/Desktop/ITSC3162DataMining/.venv/lib/python3.9/site-packages (from ipykernel!=6.30.0,>=6.5.0->jupyterlab<4.5,>=4.4.5->notebook) (0.1.4)\n",
      "Requirement already satisfied: comm>=0.1.1 in /Users/jonathanjagdon/Desktop/ITSC3162DataMining/.venv/lib/python3.9/site-packages (from ipykernel!=6.30.0,>=6.5.0->jupyterlab<4.5,>=4.4.5->notebook) (0.2.3)\n",
      "Requirement already satisfied: debugpy>=1.6.5 in /Users/jonathanjagdon/Desktop/ITSC3162DataMining/.venv/lib/python3.9/site-packages (from ipykernel!=6.30.0,>=6.5.0->jupyterlab<4.5,>=4.4.5->notebook) (1.8.16)\n",
      "Requirement already satisfied: ipython>=7.23.1 in /Users/jonathanjagdon/Desktop/ITSC3162DataMining/.venv/lib/python3.9/site-packages (from ipykernel!=6.30.0,>=6.5.0->jupyterlab<4.5,>=4.4.5->notebook) (8.18.1)\n",
      "Requirement already satisfied: matplotlib-inline>=0.1 in /Users/jonathanjagdon/Desktop/ITSC3162DataMining/.venv/lib/python3.9/site-packages (from ipykernel!=6.30.0,>=6.5.0->jupyterlab<4.5,>=4.4.5->notebook) (0.1.7)\n",
      "Requirement already satisfied: nest-asyncio>=1.4 in /Users/jonathanjagdon/Desktop/ITSC3162DataMining/.venv/lib/python3.9/site-packages (from ipykernel!=6.30.0,>=6.5.0->jupyterlab<4.5,>=4.4.5->notebook) (1.6.0)\n",
      "Requirement already satisfied: psutil>=5.7 in /Users/jonathanjagdon/Desktop/ITSC3162DataMining/.venv/lib/python3.9/site-packages (from ipykernel!=6.30.0,>=6.5.0->jupyterlab<4.5,>=4.4.5->notebook) (7.0.0)\n",
      "Requirement already satisfied: decorator in /Users/jonathanjagdon/Desktop/ITSC3162DataMining/.venv/lib/python3.9/site-packages (from ipython>=7.23.1->ipykernel!=6.30.0,>=6.5.0->jupyterlab<4.5,>=4.4.5->notebook) (5.2.1)\n",
      "Requirement already satisfied: jedi>=0.16 in /Users/jonathanjagdon/Desktop/ITSC3162DataMining/.venv/lib/python3.9/site-packages (from ipython>=7.23.1->ipykernel!=6.30.0,>=6.5.0->jupyterlab<4.5,>=4.4.5->notebook) (0.19.2)\n",
      "Requirement already satisfied: prompt-toolkit<3.1.0,>=3.0.41 in /Users/jonathanjagdon/Desktop/ITSC3162DataMining/.venv/lib/python3.9/site-packages (from ipython>=7.23.1->ipykernel!=6.30.0,>=6.5.0->jupyterlab<4.5,>=4.4.5->notebook) (3.0.52)\n",
      "Requirement already satisfied: pygments>=2.4.0 in /Users/jonathanjagdon/Desktop/ITSC3162DataMining/.venv/lib/python3.9/site-packages (from ipython>=7.23.1->ipykernel!=6.30.0,>=6.5.0->jupyterlab<4.5,>=4.4.5->notebook) (2.19.2)\n",
      "Requirement already satisfied: stack-data in /Users/jonathanjagdon/Desktop/ITSC3162DataMining/.venv/lib/python3.9/site-packages (from ipython>=7.23.1->ipykernel!=6.30.0,>=6.5.0->jupyterlab<4.5,>=4.4.5->notebook) (0.6.3)\n",
      "Requirement already satisfied: pexpect>4.3 in /Users/jonathanjagdon/Desktop/ITSC3162DataMining/.venv/lib/python3.9/site-packages (from ipython>=7.23.1->ipykernel!=6.30.0,>=6.5.0->jupyterlab<4.5,>=4.4.5->notebook) (4.9.0)\n",
      "Requirement already satisfied: wcwidth in /Users/jonathanjagdon/Desktop/ITSC3162DataMining/.venv/lib/python3.9/site-packages (from prompt-toolkit<3.1.0,>=3.0.41->ipython>=7.23.1->ipykernel!=6.30.0,>=6.5.0->jupyterlab<4.5,>=4.4.5->notebook) (0.2.13)\n",
      "Requirement already satisfied: parso<0.9.0,>=0.8.4 in /Users/jonathanjagdon/Desktop/ITSC3162DataMining/.venv/lib/python3.9/site-packages (from jedi>=0.16->ipython>=7.23.1->ipykernel!=6.30.0,>=6.5.0->jupyterlab<4.5,>=4.4.5->notebook) (0.8.5)\n",
      "Requirement already satisfied: MarkupSafe>=2.0 in /Users/jonathanjagdon/Desktop/ITSC3162DataMining/.venv/lib/python3.9/site-packages (from jinja2>=3.0.3->jupyter-server<3,>=2.4.0->notebook) (3.0.2)\n",
      "Requirement already satisfied: attrs>=22.2.0 in /Users/jonathanjagdon/Desktop/ITSC3162DataMining/.venv/lib/python3.9/site-packages (from jsonschema>=4.18.0->jupyterlab-server<3,>=2.27.1->notebook) (25.3.0)\n",
      "Requirement already satisfied: jsonschema-specifications>=2023.03.6 in /Users/jonathanjagdon/Desktop/ITSC3162DataMining/.venv/lib/python3.9/site-packages (from jsonschema>=4.18.0->jupyterlab-server<3,>=2.27.1->notebook) (2025.4.1)\n",
      "Requirement already satisfied: referencing>=0.28.4 in /Users/jonathanjagdon/Desktop/ITSC3162DataMining/.venv/lib/python3.9/site-packages (from jsonschema>=4.18.0->jupyterlab-server<3,>=2.27.1->notebook) (0.36.2)\n",
      "Requirement already satisfied: rpds-py>=0.7.1 in /Users/jonathanjagdon/Desktop/ITSC3162DataMining/.venv/lib/python3.9/site-packages (from jsonschema>=4.18.0->jupyterlab-server<3,>=2.27.1->notebook) (0.27.1)\n",
      "Requirement already satisfied: python-dateutil>=2.8.2 in /Users/jonathanjagdon/Desktop/ITSC3162DataMining/.venv/lib/python3.9/site-packages (from jupyter-client>=7.4.4->jupyter-server<3,>=2.4.0->notebook) (2.9.0.post0)\n",
      "Requirement already satisfied: platformdirs>=2.5 in /Users/jonathanjagdon/Desktop/ITSC3162DataMining/.venv/lib/python3.9/site-packages (from jupyter-core!=5.0.*,>=4.12->jupyter-server<3,>=2.4.0->notebook) (4.4.0)\n",
      "Requirement already satisfied: python-json-logger>=2.0.4 in /Users/jonathanjagdon/Desktop/ITSC3162DataMining/.venv/lib/python3.9/site-packages (from jupyter-events>=0.11.0->jupyter-server<3,>=2.4.0->notebook) (3.3.0)\n",
      "Requirement already satisfied: pyyaml>=5.3 in /Users/jonathanjagdon/Desktop/ITSC3162DataMining/.venv/lib/python3.9/site-packages (from jupyter-events>=0.11.0->jupyter-server<3,>=2.4.0->notebook) (6.0.2)\n",
      "Requirement already satisfied: rfc3339-validator in /Users/jonathanjagdon/Desktop/ITSC3162DataMining/.venv/lib/python3.9/site-packages (from jupyter-events>=0.11.0->jupyter-server<3,>=2.4.0->notebook) (0.1.4)\n",
      "Requirement already satisfied: rfc3986-validator>=0.1.1 in /Users/jonathanjagdon/Desktop/ITSC3162DataMining/.venv/lib/python3.9/site-packages (from jupyter-events>=0.11.0->jupyter-server<3,>=2.4.0->notebook) (0.1.1)\n",
      "Requirement already satisfied: fqdn in /Users/jonathanjagdon/Desktop/ITSC3162DataMining/.venv/lib/python3.9/site-packages (from jsonschema[format-nongpl]>=4.18.0->jupyter-events>=0.11.0->jupyter-server<3,>=2.4.0->notebook) (1.5.1)\n",
      "Requirement already satisfied: isoduration in /Users/jonathanjagdon/Desktop/ITSC3162DataMining/.venv/lib/python3.9/site-packages (from jsonschema[format-nongpl]>=4.18.0->jupyter-events>=0.11.0->jupyter-server<3,>=2.4.0->notebook) (20.11.0)\n",
      "Requirement already satisfied: jsonpointer>1.13 in /Users/jonathanjagdon/Desktop/ITSC3162DataMining/.venv/lib/python3.9/site-packages (from jsonschema[format-nongpl]>=4.18.0->jupyter-events>=0.11.0->jupyter-server<3,>=2.4.0->notebook) (3.0.0)\n",
      "Requirement already satisfied: rfc3987-syntax>=1.1.0 in /Users/jonathanjagdon/Desktop/ITSC3162DataMining/.venv/lib/python3.9/site-packages (from jsonschema[format-nongpl]>=4.18.0->jupyter-events>=0.11.0->jupyter-server<3,>=2.4.0->notebook) (1.1.0)\n",
      "Requirement already satisfied: uri-template in /Users/jonathanjagdon/Desktop/ITSC3162DataMining/.venv/lib/python3.9/site-packages (from jsonschema[format-nongpl]>=4.18.0->jupyter-events>=0.11.0->jupyter-server<3,>=2.4.0->notebook) (1.3.0)\n",
      "Requirement already satisfied: webcolors>=24.6.0 in /Users/jonathanjagdon/Desktop/ITSC3162DataMining/.venv/lib/python3.9/site-packages (from jsonschema[format-nongpl]>=4.18.0->jupyter-events>=0.11.0->jupyter-server<3,>=2.4.0->notebook) (24.11.1)\n",
      "Requirement already satisfied: beautifulsoup4 in /Users/jonathanjagdon/Desktop/ITSC3162DataMining/.venv/lib/python3.9/site-packages (from nbconvert>=6.4.4->jupyter-server<3,>=2.4.0->notebook) (4.13.5)\n",
      "Requirement already satisfied: bleach!=5.0.0 in /Users/jonathanjagdon/Desktop/ITSC3162DataMining/.venv/lib/python3.9/site-packages (from bleach[css]!=5.0.0->nbconvert>=6.4.4->jupyter-server<3,>=2.4.0->notebook) (6.2.0)\n",
      "Requirement already satisfied: defusedxml in /Users/jonathanjagdon/Desktop/ITSC3162DataMining/.venv/lib/python3.9/site-packages (from nbconvert>=6.4.4->jupyter-server<3,>=2.4.0->notebook) (0.7.1)\n",
      "Requirement already satisfied: jupyterlab-pygments in /Users/jonathanjagdon/Desktop/ITSC3162DataMining/.venv/lib/python3.9/site-packages (from nbconvert>=6.4.4->jupyter-server<3,>=2.4.0->notebook) (0.3.0)\n",
      "Requirement already satisfied: mistune<4,>=2.0.3 in /Users/jonathanjagdon/Desktop/ITSC3162DataMining/.venv/lib/python3.9/site-packages (from nbconvert>=6.4.4->jupyter-server<3,>=2.4.0->notebook) (3.1.3)\n",
      "Requirement already satisfied: nbclient>=0.5.0 in /Users/jonathanjagdon/Desktop/ITSC3162DataMining/.venv/lib/python3.9/site-packages (from nbconvert>=6.4.4->jupyter-server<3,>=2.4.0->notebook) (0.10.2)\n",
      "Requirement already satisfied: pandocfilters>=1.4.1 in /Users/jonathanjagdon/Desktop/ITSC3162DataMining/.venv/lib/python3.9/site-packages (from nbconvert>=6.4.4->jupyter-server<3,>=2.4.0->notebook) (1.5.1)\n",
      "Requirement already satisfied: webencodings in /Users/jonathanjagdon/Desktop/ITSC3162DataMining/.venv/lib/python3.9/site-packages (from bleach!=5.0.0->bleach[css]!=5.0.0->nbconvert>=6.4.4->jupyter-server<3,>=2.4.0->notebook) (0.5.1)\n",
      "Requirement already satisfied: tinycss2<1.5,>=1.1.0 in /Users/jonathanjagdon/Desktop/ITSC3162DataMining/.venv/lib/python3.9/site-packages (from bleach[css]!=5.0.0->nbconvert>=6.4.4->jupyter-server<3,>=2.4.0->notebook) (1.4.0)\n",
      "Requirement already satisfied: fastjsonschema>=2.15 in /Users/jonathanjagdon/Desktop/ITSC3162DataMining/.venv/lib/python3.9/site-packages (from nbformat>=5.3.0->jupyter-server<3,>=2.4.0->notebook) (2.21.2)\n",
      "Requirement already satisfied: ptyprocess>=0.5 in /Users/jonathanjagdon/Desktop/ITSC3162DataMining/.venv/lib/python3.9/site-packages (from pexpect>4.3->ipython>=7.23.1->ipykernel!=6.30.0,>=6.5.0->jupyterlab<4.5,>=4.4.5->notebook) (0.7.0)\n",
      "Requirement already satisfied: six>=1.5 in /Users/jonathanjagdon/Desktop/ITSC3162DataMining/.venv/lib/python3.9/site-packages (from python-dateutil>=2.8.2->jupyter-client>=7.4.4->jupyter-server<3,>=2.4.0->notebook) (1.17.0)\n",
      "Requirement already satisfied: charset_normalizer<4,>=2 in /Users/jonathanjagdon/Desktop/ITSC3162DataMining/.venv/lib/python3.9/site-packages (from requests>=2.31->jupyterlab-server<3,>=2.27.1->notebook) (3.4.3)\n",
      "Requirement already satisfied: urllib3<3,>=1.21.1 in /Users/jonathanjagdon/Desktop/ITSC3162DataMining/.venv/lib/python3.9/site-packages (from requests>=2.31->jupyterlab-server<3,>=2.27.1->notebook) (2.5.0)\n",
      "Requirement already satisfied: lark>=1.2.2 in /Users/jonathanjagdon/Desktop/ITSC3162DataMining/.venv/lib/python3.9/site-packages (from rfc3987-syntax>=1.1.0->jsonschema[format-nongpl]>=4.18.0->jupyter-events>=0.11.0->jupyter-server<3,>=2.4.0->notebook) (1.2.2)\n",
      "Requirement already satisfied: cffi>=1.0.1 in /Users/jonathanjagdon/Desktop/ITSC3162DataMining/.venv/lib/python3.9/site-packages (from argon2-cffi-bindings->argon2-cffi>=21.1->jupyter-server<3,>=2.4.0->notebook) (1.17.1)\n",
      "Requirement already satisfied: pycparser in /Users/jonathanjagdon/Desktop/ITSC3162DataMining/.venv/lib/python3.9/site-packages (from cffi>=1.0.1->argon2-cffi-bindings->argon2-cffi>=21.1->jupyter-server<3,>=2.4.0->notebook) (2.22)\n",
      "Requirement already satisfied: soupsieve>1.2 in /Users/jonathanjagdon/Desktop/ITSC3162DataMining/.venv/lib/python3.9/site-packages (from beautifulsoup4->nbconvert>=6.4.4->jupyter-server<3,>=2.4.0->notebook) (2.8)\n",
      "Requirement already satisfied: arrow>=0.15.0 in /Users/jonathanjagdon/Desktop/ITSC3162DataMining/.venv/lib/python3.9/site-packages (from isoduration->jsonschema[format-nongpl]>=4.18.0->jupyter-events>=0.11.0->jupyter-server<3,>=2.4.0->notebook) (1.3.0)\n",
      "Requirement already satisfied: types-python-dateutil>=2.8.10 in /Users/jonathanjagdon/Desktop/ITSC3162DataMining/.venv/lib/python3.9/site-packages (from arrow>=0.15.0->isoduration->jsonschema[format-nongpl]>=4.18.0->jupyter-events>=0.11.0->jupyter-server<3,>=2.4.0->notebook) (2.9.0.20250822)\n",
      "Requirement already satisfied: executing>=1.2.0 in /Users/jonathanjagdon/Desktop/ITSC3162DataMining/.venv/lib/python3.9/site-packages (from stack-data->ipython>=7.23.1->ipykernel!=6.30.0,>=6.5.0->jupyterlab<4.5,>=4.4.5->notebook) (2.2.0)\n",
      "Requirement already satisfied: asttokens>=2.1.0 in /Users/jonathanjagdon/Desktop/ITSC3162DataMining/.venv/lib/python3.9/site-packages (from stack-data->ipython>=7.23.1->ipykernel!=6.30.0,>=6.5.0->jupyterlab<4.5,>=4.4.5->notebook) (3.0.0)\n",
      "Requirement already satisfied: pure-eval in /Users/jonathanjagdon/Desktop/ITSC3162DataMining/.venv/lib/python3.9/site-packages (from stack-data->ipython>=7.23.1->ipykernel!=6.30.0,>=6.5.0->jupyterlab<4.5,>=4.4.5->notebook) (0.2.3)\n"
     ]
    }
   ],
   "source": [
    "!pip install notebook"
   ]
  },
  {
   "cell_type": "code",
   "execution_count": 3,
   "metadata": {},
   "outputs": [
    {
     "name": "stdout",
     "output_type": "stream",
     "text": [
      "Requirement already satisfied: pandas in /Users/jonathanjagdon/Desktop/ITSC3162DataMining/.venv/lib/python3.9/site-packages (2.3.2)\n",
      "Requirement already satisfied: numpy>=1.22.4 in /Users/jonathanjagdon/Desktop/ITSC3162DataMining/.venv/lib/python3.9/site-packages (from pandas) (2.0.2)\n",
      "Requirement already satisfied: python-dateutil>=2.8.2 in /Users/jonathanjagdon/Desktop/ITSC3162DataMining/.venv/lib/python3.9/site-packages (from pandas) (2.9.0.post0)\n",
      "Requirement already satisfied: pytz>=2020.1 in /Users/jonathanjagdon/Desktop/ITSC3162DataMining/.venv/lib/python3.9/site-packages (from pandas) (2025.2)\n",
      "Requirement already satisfied: tzdata>=2022.7 in /Users/jonathanjagdon/Desktop/ITSC3162DataMining/.venv/lib/python3.9/site-packages (from pandas) (2025.2)\n",
      "Requirement already satisfied: six>=1.5 in /Users/jonathanjagdon/Desktop/ITSC3162DataMining/.venv/lib/python3.9/site-packages (from python-dateutil>=2.8.2->pandas) (1.17.0)\n"
     ]
    }
   ],
   "source": [
    "!pip install pandas\n",
    "\n"
   ]
  },
  {
   "cell_type": "code",
   "execution_count": 4,
   "metadata": {},
   "outputs": [],
   "source": [
    "import pandas as pd"
   ]
  },
  {
   "cell_type": "markdown",
   "metadata": {},
   "source": [
    "# Series vs DataFrame!\n",
    "Before jumping into pandas, let's look at what a basic Python series looks like. It's one-dimensional:"
   ]
  },
  {
   "cell_type": "code",
   "execution_count": 5,
   "metadata": {},
   "outputs": [],
   "source": [
    "series  = pd.Series(['dog', 'cat', 'frog'])"
   ]
  },
  {
   "cell_type": "code",
   "execution_count": 6,
   "metadata": {},
   "outputs": [
    {
     "data": {
      "text/plain": [
       "0     dog\n",
       "1     cat\n",
       "2    frog\n",
       "dtype: object"
      ]
     },
     "execution_count": 6,
     "metadata": {},
     "output_type": "execute_result"
    }
   ],
   "source": [
    "series"
   ]
  },
  {
   "cell_type": "code",
   "execution_count": 7,
   "metadata": {},
   "outputs": [],
   "source": [
    "colors = pd.Series(['blue', 'black', 'green'])"
   ]
  },
  {
   "cell_type": "code",
   "execution_count": 8,
   "metadata": {},
   "outputs": [
    {
     "data": {
      "text/plain": [
       "0     blue\n",
       "1    black\n",
       "2    green\n",
       "dtype: object"
      ]
     },
     "execution_count": 8,
     "metadata": {},
     "output_type": "execute_result"
    }
   ],
   "source": [
    "colors"
   ]
  },
  {
   "cell_type": "code",
   "execution_count": 9,
   "metadata": {},
   "outputs": [],
   "source": [
    "animal_df = pd.DataFrame({\"Animal:\": series, \"Color\": colors})"
   ]
  },
  {
   "cell_type": "code",
   "execution_count": 10,
   "metadata": {},
   "outputs": [
    {
     "data": {
      "text/html": [
       "<div>\n",
       "<style scoped>\n",
       "    .dataframe tbody tr th:only-of-type {\n",
       "        vertical-align: middle;\n",
       "    }\n",
       "\n",
       "    .dataframe tbody tr th {\n",
       "        vertical-align: top;\n",
       "    }\n",
       "\n",
       "    .dataframe thead th {\n",
       "        text-align: right;\n",
       "    }\n",
       "</style>\n",
       "<table border=\"1\" class=\"dataframe\">\n",
       "  <thead>\n",
       "    <tr style=\"text-align: right;\">\n",
       "      <th></th>\n",
       "      <th>Animal:</th>\n",
       "      <th>Color</th>\n",
       "    </tr>\n",
       "  </thead>\n",
       "  <tbody>\n",
       "    <tr>\n",
       "      <th>0</th>\n",
       "      <td>dog</td>\n",
       "      <td>blue</td>\n",
       "    </tr>\n",
       "    <tr>\n",
       "      <th>1</th>\n",
       "      <td>cat</td>\n",
       "      <td>black</td>\n",
       "    </tr>\n",
       "    <tr>\n",
       "      <th>2</th>\n",
       "      <td>frog</td>\n",
       "      <td>green</td>\n",
       "    </tr>\n",
       "  </tbody>\n",
       "</table>\n",
       "</div>"
      ],
      "text/plain": [
       "  Animal:  Color\n",
       "0     dog   blue\n",
       "1     cat  black\n",
       "2    frog  green"
      ]
     },
     "execution_count": 10,
     "metadata": {},
     "output_type": "execute_result"
    }
   ],
   "source": [
    "animal_df"
   ]
  },
  {
   "cell_type": "markdown",
   "metadata": {},
   "source": [
    "Here, we see more of a table format. This is what most of the data we work with will look like (but larger!)"
   ]
  },
  {
   "cell_type": "markdown",
   "metadata": {},
   "source": [
    "# Reading our data!\n",
    "If we are ever unsure about what a method is for or how to use it, jupyter notebook allows us to pull up the documentary by adding a '?' at the end of it. Try looking at the document for pd.read_csv"
   ]
  },
  {
   "cell_type": "code",
   "execution_count": 11,
   "metadata": {},
   "outputs": [
    {
     "name": "stderr",
     "output_type": "stream",
     "text": [
      "/var/folders/l9/70smnm5938z_dx4_7tr0tn8w0000gn/T/ipykernel_99424/3007349167.py:1: DtypeWarning: Columns (1,18) have mixed types. Specify dtype option on import or set low_memory=False.\n",
      "  df = pd.read_csv(\"../datasets/Crime.csv\")\n"
     ]
    }
   ],
   "source": [
    "df = pd.read_csv(\"../datasets/Crime.csv\")"
   ]
  },
  {
   "cell_type": "code",
   "execution_count": 12,
   "metadata": {},
   "outputs": [
    {
     "name": "stdout",
     "output_type": "stream",
     "text": [
      "Requirement already satisfied: matplotlib in /Users/jonathanjagdon/Desktop/ITSC3162DataMining/.venv/lib/python3.9/site-packages (3.9.4)\n",
      "Requirement already satisfied: contourpy>=1.0.1 in /Users/jonathanjagdon/Desktop/ITSC3162DataMining/.venv/lib/python3.9/site-packages (from matplotlib) (1.3.0)\n",
      "Requirement already satisfied: cycler>=0.10 in /Users/jonathanjagdon/Desktop/ITSC3162DataMining/.venv/lib/python3.9/site-packages (from matplotlib) (0.12.1)\n",
      "Requirement already satisfied: fonttools>=4.22.0 in /Users/jonathanjagdon/Desktop/ITSC3162DataMining/.venv/lib/python3.9/site-packages (from matplotlib) (4.59.2)\n",
      "Requirement already satisfied: kiwisolver>=1.3.1 in /Users/jonathanjagdon/Desktop/ITSC3162DataMining/.venv/lib/python3.9/site-packages (from matplotlib) (1.4.7)\n",
      "Requirement already satisfied: numpy>=1.23 in /Users/jonathanjagdon/Desktop/ITSC3162DataMining/.venv/lib/python3.9/site-packages (from matplotlib) (2.0.2)\n",
      "Requirement already satisfied: packaging>=20.0 in /Users/jonathanjagdon/Desktop/ITSC3162DataMining/.venv/lib/python3.9/site-packages (from matplotlib) (25.0)\n",
      "Requirement already satisfied: pillow>=8 in /Users/jonathanjagdon/Desktop/ITSC3162DataMining/.venv/lib/python3.9/site-packages (from matplotlib) (11.3.0)\n",
      "Requirement already satisfied: pyparsing>=2.3.1 in /Users/jonathanjagdon/Desktop/ITSC3162DataMining/.venv/lib/python3.9/site-packages (from matplotlib) (3.2.3)\n",
      "Requirement already satisfied: python-dateutil>=2.7 in /Users/jonathanjagdon/Desktop/ITSC3162DataMining/.venv/lib/python3.9/site-packages (from matplotlib) (2.9.0.post0)\n",
      "Requirement already satisfied: importlib-resources>=3.2.0 in /Users/jonathanjagdon/Desktop/ITSC3162DataMining/.venv/lib/python3.9/site-packages (from matplotlib) (6.5.2)\n",
      "Requirement already satisfied: zipp>=3.1.0 in /Users/jonathanjagdon/Desktop/ITSC3162DataMining/.venv/lib/python3.9/site-packages (from importlib-resources>=3.2.0->matplotlib) (3.23.0)\n",
      "Requirement already satisfied: six>=1.5 in /Users/jonathanjagdon/Desktop/ITSC3162DataMining/.venv/lib/python3.9/site-packages (from python-dateutil>=2.7->matplotlib) (1.17.0)\n"
     ]
    }
   ],
   "source": [
    "!pip install matplotlib"
   ]
  },
  {
   "cell_type": "markdown",
   "metadata": {},
   "source": [
    "# Describe our Data\n",
    "This will get us a list of our column (aka our features)"
   ]
  },
  {
   "cell_type": "code",
   "execution_count": 13,
   "metadata": {},
   "outputs": [
    {
     "data": {
      "text/plain": [
       "Index(['Incident ID', 'Offence Code', 'CR Number', 'Dispatch Date / Time',\n",
       "       'NIBRS Code', 'Victims', 'Crime Name1', 'Crime Name2', 'Crime Name3',\n",
       "       'Police District Name', 'Block Address', 'City', 'State', 'Zip Code',\n",
       "       'Agency', 'Place', 'Sector', 'Beat', 'PRA', 'Address Number',\n",
       "       'Street Prefix', 'Street Name', 'Street Suffix', 'Street Type',\n",
       "       'Start_Date_Time', 'End_Date_Time', 'Latitude', 'Longitude',\n",
       "       'Police District Number', 'Location'],\n",
       "      dtype='object')"
      ]
     },
     "execution_count": 13,
     "metadata": {},
     "output_type": "execute_result"
    }
   ],
   "source": [
    "df.columns"
   ]
  },
  {
   "cell_type": "code",
   "execution_count": 14,
   "metadata": {},
   "outputs": [
    {
     "data": {
      "text/plain": [
       "Incident ID                 int64\n",
       "Offence Code               object\n",
       "CR Number                   int64\n",
       "Dispatch Date / Time       object\n",
       "NIBRS Code                 object\n",
       "Victims                     int64\n",
       "Crime Name1                object\n",
       "Crime Name2                object\n",
       "Crime Name3                object\n",
       "Police District Name       object\n",
       "Block Address              object\n",
       "City                       object\n",
       "State                      object\n",
       "Zip Code                  float64\n",
       "Agency                     object\n",
       "Place                      object\n",
       "Sector                     object\n",
       "Beat                       object\n",
       "PRA                        object\n",
       "Address Number            float64\n",
       "Street Prefix              object\n",
       "Street Name                object\n",
       "Street Suffix              object\n",
       "Street Type                object\n",
       "Start_Date_Time            object\n",
       "End_Date_Time              object\n",
       "Latitude                  float64\n",
       "Longitude                 float64\n",
       "Police District Number     object\n",
       "Location                   object\n",
       "dtype: object"
      ]
     },
     "execution_count": 14,
     "metadata": {},
     "output_type": "execute_result"
    }
   ],
   "source": [
    "df.dtypes"
   ]
  },
  {
   "cell_type": "code",
   "execution_count": 15,
   "metadata": {},
   "outputs": [
    {
     "data": {
      "text/plain": [
       "RangeIndex(start=0, stop=306094, step=1)"
      ]
     },
     "execution_count": 15,
     "metadata": {},
     "output_type": "execute_result"
    }
   ],
   "source": [
    "df.index"
   ]
  },
  {
   "cell_type": "markdown",
   "metadata": {},
   "source": [
    "Information on the 'shape' of our data. The first value is the number of rows (how many items we have). The second value is number of columns (how many features we have)"
   ]
  },
  {
   "cell_type": "code",
   "execution_count": 16,
   "metadata": {},
   "outputs": [
    {
     "data": {
      "text/plain": [
       "(306094, 30)"
      ]
     },
     "execution_count": 16,
     "metadata": {},
     "output_type": "execute_result"
    }
   ],
   "source": [
    "df.shape"
   ]
  },
  {
   "cell_type": "markdown",
   "metadata": {},
   "source": [
    "The following gives a quick overview of our data. The count, mean, standard deviation, etc.. of each column. Notice how we only see information on 7 columns when we have 30 total. This can only show information on the numerical columns. "
   ]
  },
  {
   "cell_type": "code",
   "execution_count": 17,
   "metadata": {},
   "outputs": [
    {
     "data": {
      "text/html": [
       "<div>\n",
       "<style scoped>\n",
       "    .dataframe tbody tr th:only-of-type {\n",
       "        vertical-align: middle;\n",
       "    }\n",
       "\n",
       "    .dataframe tbody tr th {\n",
       "        vertical-align: top;\n",
       "    }\n",
       "\n",
       "    .dataframe thead th {\n",
       "        text-align: right;\n",
       "    }\n",
       "</style>\n",
       "<table border=\"1\" class=\"dataframe\">\n",
       "  <thead>\n",
       "    <tr style=\"text-align: right;\">\n",
       "      <th></th>\n",
       "      <th>Incident ID</th>\n",
       "      <th>CR Number</th>\n",
       "      <th>Victims</th>\n",
       "      <th>Zip Code</th>\n",
       "      <th>Address Number</th>\n",
       "      <th>Latitude</th>\n",
       "      <th>Longitude</th>\n",
       "    </tr>\n",
       "  </thead>\n",
       "  <tbody>\n",
       "    <tr>\n",
       "      <th>count</th>\n",
       "      <td>3.060940e+05</td>\n",
       "      <td>3.060940e+05</td>\n",
       "      <td>306094.000000</td>\n",
       "      <td>302915.000000</td>\n",
       "      <td>2.799850e+05</td>\n",
       "      <td>306094.000000</td>\n",
       "      <td>306094.000000</td>\n",
       "    </tr>\n",
       "    <tr>\n",
       "      <th>mean</th>\n",
       "      <td>2.012369e+08</td>\n",
       "      <td>1.692787e+08</td>\n",
       "      <td>1.022692</td>\n",
       "      <td>20876.535939</td>\n",
       "      <td>8.393001e+03</td>\n",
       "      <td>38.146328</td>\n",
       "      <td>-75.269490</td>\n",
       "    </tr>\n",
       "    <tr>\n",
       "      <th>std</th>\n",
       "      <td>8.626185e+04</td>\n",
       "      <td>6.210304e+07</td>\n",
       "      <td>0.192311</td>\n",
       "      <td>170.157722</td>\n",
       "      <td>1.526296e+04</td>\n",
       "      <td>5.974082</td>\n",
       "      <td>11.786118</td>\n",
       "    </tr>\n",
       "    <tr>\n",
       "      <th>min</th>\n",
       "      <td>2.010871e+08</td>\n",
       "      <td>1.001107e+07</td>\n",
       "      <td>1.000000</td>\n",
       "      <td>6.000000</td>\n",
       "      <td>1.000000e+00</td>\n",
       "      <td>0.000000</td>\n",
       "      <td>-77.516753</td>\n",
       "    </tr>\n",
       "    <tr>\n",
       "      <th>25%</th>\n",
       "      <td>2.011625e+08</td>\n",
       "      <td>1.705431e+08</td>\n",
       "      <td>1.000000</td>\n",
       "      <td>20853.000000</td>\n",
       "      <td>1.600000e+03</td>\n",
       "      <td>39.020392</td>\n",
       "      <td>-77.197117</td>\n",
       "    </tr>\n",
       "    <tr>\n",
       "      <th>50%</th>\n",
       "      <td>2.012361e+08</td>\n",
       "      <td>1.900183e+08</td>\n",
       "      <td>1.000000</td>\n",
       "      <td>20878.000000</td>\n",
       "      <td>8.100000e+03</td>\n",
       "      <td>39.072844</td>\n",
       "      <td>-77.099464</td>\n",
       "    </tr>\n",
       "    <tr>\n",
       "      <th>75%</th>\n",
       "      <td>2.013109e+08</td>\n",
       "      <td>2.000466e+08</td>\n",
       "      <td>1.000000</td>\n",
       "      <td>20904.000000</td>\n",
       "      <td>1.250000e+04</td>\n",
       "      <td>39.142072</td>\n",
       "      <td>-77.029046</td>\n",
       "    </tr>\n",
       "    <tr>\n",
       "      <th>max</th>\n",
       "      <td>2.013872e+08</td>\n",
       "      <td>2.204211e+08</td>\n",
       "      <td>22.000000</td>\n",
       "      <td>29882.000000</td>\n",
       "      <td>2.090600e+06</td>\n",
       "      <td>90.000000</td>\n",
       "      <td>0.000000</td>\n",
       "    </tr>\n",
       "  </tbody>\n",
       "</table>\n",
       "</div>"
      ],
      "text/plain": [
       "        Incident ID     CR Number        Victims       Zip Code  \\\n",
       "count  3.060940e+05  3.060940e+05  306094.000000  302915.000000   \n",
       "mean   2.012369e+08  1.692787e+08       1.022692   20876.535939   \n",
       "std    8.626185e+04  6.210304e+07       0.192311     170.157722   \n",
       "min    2.010871e+08  1.001107e+07       1.000000       6.000000   \n",
       "25%    2.011625e+08  1.705431e+08       1.000000   20853.000000   \n",
       "50%    2.012361e+08  1.900183e+08       1.000000   20878.000000   \n",
       "75%    2.013109e+08  2.000466e+08       1.000000   20904.000000   \n",
       "max    2.013872e+08  2.204211e+08      22.000000   29882.000000   \n",
       "\n",
       "       Address Number       Latitude      Longitude  \n",
       "count    2.799850e+05  306094.000000  306094.000000  \n",
       "mean     8.393001e+03      38.146328     -75.269490  \n",
       "std      1.526296e+04       5.974082      11.786118  \n",
       "min      1.000000e+00       0.000000     -77.516753  \n",
       "25%      1.600000e+03      39.020392     -77.197117  \n",
       "50%      8.100000e+03      39.072844     -77.099464  \n",
       "75%      1.250000e+04      39.142072     -77.029046  \n",
       "max      2.090600e+06      90.000000       0.000000  "
      ]
     },
     "execution_count": 17,
     "metadata": {},
     "output_type": "execute_result"
    }
   ],
   "source": [
    "df.describe()"
   ]
  },
  {
   "cell_type": "markdown",
   "metadata": {},
   "source": [
    "# How to view and select data\n",
    "To start, the below allows us to quickly view the first five entries"
   ]
  },
  {
   "cell_type": "code",
   "execution_count": 18,
   "metadata": {},
   "outputs": [
    {
     "data": {
      "text/html": [
       "<div>\n",
       "<style scoped>\n",
       "    .dataframe tbody tr th:only-of-type {\n",
       "        vertical-align: middle;\n",
       "    }\n",
       "\n",
       "    .dataframe tbody tr th {\n",
       "        vertical-align: top;\n",
       "    }\n",
       "\n",
       "    .dataframe thead th {\n",
       "        text-align: right;\n",
       "    }\n",
       "</style>\n",
       "<table border=\"1\" class=\"dataframe\">\n",
       "  <thead>\n",
       "    <tr style=\"text-align: right;\">\n",
       "      <th></th>\n",
       "      <th>Incident ID</th>\n",
       "      <th>Offence Code</th>\n",
       "      <th>CR Number</th>\n",
       "      <th>Dispatch Date / Time</th>\n",
       "      <th>NIBRS Code</th>\n",
       "      <th>Victims</th>\n",
       "      <th>Crime Name1</th>\n",
       "      <th>Crime Name2</th>\n",
       "      <th>Crime Name3</th>\n",
       "      <th>Police District Name</th>\n",
       "      <th>...</th>\n",
       "      <th>Street Prefix</th>\n",
       "      <th>Street Name</th>\n",
       "      <th>Street Suffix</th>\n",
       "      <th>Street Type</th>\n",
       "      <th>Start_Date_Time</th>\n",
       "      <th>End_Date_Time</th>\n",
       "      <th>Latitude</th>\n",
       "      <th>Longitude</th>\n",
       "      <th>Police District Number</th>\n",
       "      <th>Location</th>\n",
       "    </tr>\n",
       "  </thead>\n",
       "  <tbody>\n",
       "    <tr>\n",
       "      <th>0</th>\n",
       "      <td>201202980</td>\n",
       "      <td>3550</td>\n",
       "      <td>180042096</td>\n",
       "      <td>08/23/2018 09:52:08 PM</td>\n",
       "      <td>35B</td>\n",
       "      <td>1</td>\n",
       "      <td>Crime Against Society</td>\n",
       "      <td>Drug Equipment Violations</td>\n",
       "      <td>DRUGS - NARCOTIC EQUIP - POSSESS</td>\n",
       "      <td>GERMANTOWN</td>\n",
       "      <td>...</td>\n",
       "      <td>NaN</td>\n",
       "      <td>MIDDLEBROOK</td>\n",
       "      <td>NaN</td>\n",
       "      <td>RD</td>\n",
       "      <td>08/23/2018 09:52:00 PM</td>\n",
       "      <td>NaN</td>\n",
       "      <td>39.177744</td>\n",
       "      <td>-77.265619</td>\n",
       "      <td>5D</td>\n",
       "      <td>(39.1777, -77.2656)</td>\n",
       "    </tr>\n",
       "    <tr>\n",
       "      <th>1</th>\n",
       "      <td>201181293</td>\n",
       "      <td>3522</td>\n",
       "      <td>180015424</td>\n",
       "      <td>03/30/2018 01:00:55 AM</td>\n",
       "      <td>35A</td>\n",
       "      <td>1</td>\n",
       "      <td>Crime Against Society</td>\n",
       "      <td>Drug/Narcotic Violations</td>\n",
       "      <td>DRUGS - OPIUM OR DERIVATIVE - POSSESS</td>\n",
       "      <td>BETHESDA</td>\n",
       "      <td>...</td>\n",
       "      <td>NaN</td>\n",
       "      <td>WOODMONT</td>\n",
       "      <td>NaN</td>\n",
       "      <td>AVE</td>\n",
       "      <td>03/30/2018 01:01:00 AM</td>\n",
       "      <td>NaN</td>\n",
       "      <td>38.992693</td>\n",
       "      <td>-77.097063</td>\n",
       "      <td>2D</td>\n",
       "      <td>(38.9927, -77.0971)</td>\n",
       "    </tr>\n",
       "    <tr>\n",
       "      <th>2</th>\n",
       "      <td>201181293</td>\n",
       "      <td>3562</td>\n",
       "      <td>180015424</td>\n",
       "      <td>03/30/2018 01:00:55 AM</td>\n",
       "      <td>35A</td>\n",
       "      <td>1</td>\n",
       "      <td>Crime Against Society</td>\n",
       "      <td>Drug/Narcotic Violations</td>\n",
       "      <td>DRUGS - MARIJUANA - POSSESS</td>\n",
       "      <td>BETHESDA</td>\n",
       "      <td>...</td>\n",
       "      <td>NaN</td>\n",
       "      <td>WOODMONT</td>\n",
       "      <td>NaN</td>\n",
       "      <td>AVE</td>\n",
       "      <td>03/30/2018 01:01:00 AM</td>\n",
       "      <td>NaN</td>\n",
       "      <td>38.992693</td>\n",
       "      <td>-77.097063</td>\n",
       "      <td>2D</td>\n",
       "      <td>(38.9927, -77.0971)</td>\n",
       "    </tr>\n",
       "    <tr>\n",
       "      <th>3</th>\n",
       "      <td>201193163</td>\n",
       "      <td>3520</td>\n",
       "      <td>180029476</td>\n",
       "      <td>06/14/2018 10:26:45 PM</td>\n",
       "      <td>35A</td>\n",
       "      <td>1</td>\n",
       "      <td>Crime Against Society</td>\n",
       "      <td>Drug/Narcotic Violations</td>\n",
       "      <td>DRUGS - OPIUM OR DERIVATIVE - SELL</td>\n",
       "      <td>MONTGOMERY VILLAGE</td>\n",
       "      <td>...</td>\n",
       "      <td>NaN</td>\n",
       "      <td>QUINCE ORCHARD</td>\n",
       "      <td>NaN</td>\n",
       "      <td>RD</td>\n",
       "      <td>06/14/2018 10:26:00 PM</td>\n",
       "      <td>06/15/2018 03:00:00 AM</td>\n",
       "      <td>39.147954</td>\n",
       "      <td>-77.218189</td>\n",
       "      <td>6D</td>\n",
       "      <td>(39.148, -77.2182)</td>\n",
       "    </tr>\n",
       "    <tr>\n",
       "      <th>4</th>\n",
       "      <td>201204355</td>\n",
       "      <td>2204</td>\n",
       "      <td>180043926</td>\n",
       "      <td>09/03/2018 12:06:54 PM</td>\n",
       "      <td>220</td>\n",
       "      <td>1</td>\n",
       "      <td>Crime Against Property</td>\n",
       "      <td>Burglary/Breaking and Entering</td>\n",
       "      <td>BURGLARY - NO FORCED ENTRY-RESIDENTIAL</td>\n",
       "      <td>BETHESDA</td>\n",
       "      <td>...</td>\n",
       "      <td>NaN</td>\n",
       "      <td>FALSTONE</td>\n",
       "      <td>NaN</td>\n",
       "      <td>AVE</td>\n",
       "      <td>09/02/2018 11:30:00 PM</td>\n",
       "      <td>09/03/2018 12:30:00 AM</td>\n",
       "      <td>38.966174</td>\n",
       "      <td>-77.096561</td>\n",
       "      <td>2D</td>\n",
       "      <td>(38.9662, -77.0966)</td>\n",
       "    </tr>\n",
       "  </tbody>\n",
       "</table>\n",
       "<p>5 rows × 30 columns</p>\n",
       "</div>"
      ],
      "text/plain": [
       "   Incident ID Offence Code  CR Number    Dispatch Date / Time NIBRS Code  \\\n",
       "0    201202980         3550  180042096  08/23/2018 09:52:08 PM        35B   \n",
       "1    201181293         3522  180015424  03/30/2018 01:00:55 AM        35A   \n",
       "2    201181293         3562  180015424  03/30/2018 01:00:55 AM        35A   \n",
       "3    201193163         3520  180029476  06/14/2018 10:26:45 PM        35A   \n",
       "4    201204355         2204  180043926  09/03/2018 12:06:54 PM        220   \n",
       "\n",
       "   Victims             Crime Name1                     Crime Name2  \\\n",
       "0        1   Crime Against Society       Drug Equipment Violations   \n",
       "1        1   Crime Against Society        Drug/Narcotic Violations   \n",
       "2        1   Crime Against Society        Drug/Narcotic Violations   \n",
       "3        1   Crime Against Society        Drug/Narcotic Violations   \n",
       "4        1  Crime Against Property  Burglary/Breaking and Entering   \n",
       "\n",
       "                              Crime Name3 Police District Name  ...  \\\n",
       "0        DRUGS - NARCOTIC EQUIP - POSSESS           GERMANTOWN  ...   \n",
       "1   DRUGS - OPIUM OR DERIVATIVE - POSSESS             BETHESDA  ...   \n",
       "2             DRUGS - MARIJUANA - POSSESS             BETHESDA  ...   \n",
       "3      DRUGS - OPIUM OR DERIVATIVE - SELL   MONTGOMERY VILLAGE  ...   \n",
       "4  BURGLARY - NO FORCED ENTRY-RESIDENTIAL             BETHESDA  ...   \n",
       "\n",
       "  Street Prefix     Street Name Street Suffix  Street Type  \\\n",
       "0           NaN     MIDDLEBROOK           NaN           RD   \n",
       "1           NaN        WOODMONT           NaN          AVE   \n",
       "2           NaN        WOODMONT           NaN          AVE   \n",
       "3           NaN  QUINCE ORCHARD           NaN           RD   \n",
       "4           NaN        FALSTONE           NaN          AVE   \n",
       "\n",
       "          Start_Date_Time           End_Date_Time   Latitude  Longitude  \\\n",
       "0  08/23/2018 09:52:00 PM                     NaN  39.177744 -77.265619   \n",
       "1  03/30/2018 01:01:00 AM                     NaN  38.992693 -77.097063   \n",
       "2  03/30/2018 01:01:00 AM                     NaN  38.992693 -77.097063   \n",
       "3  06/14/2018 10:26:00 PM  06/15/2018 03:00:00 AM  39.147954 -77.218189   \n",
       "4  09/02/2018 11:30:00 PM  09/03/2018 12:30:00 AM  38.966174 -77.096561   \n",
       "\n",
       "  Police District Number             Location  \n",
       "0                     5D  (39.1777, -77.2656)  \n",
       "1                     2D  (38.9927, -77.0971)  \n",
       "2                     2D  (38.9927, -77.0971)  \n",
       "3                     6D   (39.148, -77.2182)  \n",
       "4                     2D  (38.9662, -77.0966)  \n",
       "\n",
       "[5 rows x 30 columns]"
      ]
     },
     "execution_count": 18,
     "metadata": {},
     "output_type": "execute_result"
    }
   ],
   "source": [
    "df.head()"
   ]
  },
  {
   "cell_type": "markdown",
   "metadata": {},
   "source": [
    "Let's say we only want to view the first three:"
   ]
  },
  {
   "cell_type": "code",
   "execution_count": 19,
   "metadata": {},
   "outputs": [
    {
     "data": {
      "text/html": [
       "<div>\n",
       "<style scoped>\n",
       "    .dataframe tbody tr th:only-of-type {\n",
       "        vertical-align: middle;\n",
       "    }\n",
       "\n",
       "    .dataframe tbody tr th {\n",
       "        vertical-align: top;\n",
       "    }\n",
       "\n",
       "    .dataframe thead th {\n",
       "        text-align: right;\n",
       "    }\n",
       "</style>\n",
       "<table border=\"1\" class=\"dataframe\">\n",
       "  <thead>\n",
       "    <tr style=\"text-align: right;\">\n",
       "      <th></th>\n",
       "      <th>Incident ID</th>\n",
       "      <th>Offence Code</th>\n",
       "      <th>CR Number</th>\n",
       "      <th>Dispatch Date / Time</th>\n",
       "      <th>NIBRS Code</th>\n",
       "      <th>Victims</th>\n",
       "      <th>Crime Name1</th>\n",
       "      <th>Crime Name2</th>\n",
       "      <th>Crime Name3</th>\n",
       "      <th>Police District Name</th>\n",
       "      <th>...</th>\n",
       "      <th>Street Prefix</th>\n",
       "      <th>Street Name</th>\n",
       "      <th>Street Suffix</th>\n",
       "      <th>Street Type</th>\n",
       "      <th>Start_Date_Time</th>\n",
       "      <th>End_Date_Time</th>\n",
       "      <th>Latitude</th>\n",
       "      <th>Longitude</th>\n",
       "      <th>Police District Number</th>\n",
       "      <th>Location</th>\n",
       "    </tr>\n",
       "  </thead>\n",
       "  <tbody>\n",
       "    <tr>\n",
       "      <th>0</th>\n",
       "      <td>201202980</td>\n",
       "      <td>3550</td>\n",
       "      <td>180042096</td>\n",
       "      <td>08/23/2018 09:52:08 PM</td>\n",
       "      <td>35B</td>\n",
       "      <td>1</td>\n",
       "      <td>Crime Against Society</td>\n",
       "      <td>Drug Equipment Violations</td>\n",
       "      <td>DRUGS - NARCOTIC EQUIP - POSSESS</td>\n",
       "      <td>GERMANTOWN</td>\n",
       "      <td>...</td>\n",
       "      <td>NaN</td>\n",
       "      <td>MIDDLEBROOK</td>\n",
       "      <td>NaN</td>\n",
       "      <td>RD</td>\n",
       "      <td>08/23/2018 09:52:00 PM</td>\n",
       "      <td>NaN</td>\n",
       "      <td>39.177744</td>\n",
       "      <td>-77.265619</td>\n",
       "      <td>5D</td>\n",
       "      <td>(39.1777, -77.2656)</td>\n",
       "    </tr>\n",
       "    <tr>\n",
       "      <th>1</th>\n",
       "      <td>201181293</td>\n",
       "      <td>3522</td>\n",
       "      <td>180015424</td>\n",
       "      <td>03/30/2018 01:00:55 AM</td>\n",
       "      <td>35A</td>\n",
       "      <td>1</td>\n",
       "      <td>Crime Against Society</td>\n",
       "      <td>Drug/Narcotic Violations</td>\n",
       "      <td>DRUGS - OPIUM OR DERIVATIVE - POSSESS</td>\n",
       "      <td>BETHESDA</td>\n",
       "      <td>...</td>\n",
       "      <td>NaN</td>\n",
       "      <td>WOODMONT</td>\n",
       "      <td>NaN</td>\n",
       "      <td>AVE</td>\n",
       "      <td>03/30/2018 01:01:00 AM</td>\n",
       "      <td>NaN</td>\n",
       "      <td>38.992693</td>\n",
       "      <td>-77.097063</td>\n",
       "      <td>2D</td>\n",
       "      <td>(38.9927, -77.0971)</td>\n",
       "    </tr>\n",
       "    <tr>\n",
       "      <th>2</th>\n",
       "      <td>201181293</td>\n",
       "      <td>3562</td>\n",
       "      <td>180015424</td>\n",
       "      <td>03/30/2018 01:00:55 AM</td>\n",
       "      <td>35A</td>\n",
       "      <td>1</td>\n",
       "      <td>Crime Against Society</td>\n",
       "      <td>Drug/Narcotic Violations</td>\n",
       "      <td>DRUGS - MARIJUANA - POSSESS</td>\n",
       "      <td>BETHESDA</td>\n",
       "      <td>...</td>\n",
       "      <td>NaN</td>\n",
       "      <td>WOODMONT</td>\n",
       "      <td>NaN</td>\n",
       "      <td>AVE</td>\n",
       "      <td>03/30/2018 01:01:00 AM</td>\n",
       "      <td>NaN</td>\n",
       "      <td>38.992693</td>\n",
       "      <td>-77.097063</td>\n",
       "      <td>2D</td>\n",
       "      <td>(38.9927, -77.0971)</td>\n",
       "    </tr>\n",
       "  </tbody>\n",
       "</table>\n",
       "<p>3 rows × 30 columns</p>\n",
       "</div>"
      ],
      "text/plain": [
       "   Incident ID Offence Code  CR Number    Dispatch Date / Time NIBRS Code  \\\n",
       "0    201202980         3550  180042096  08/23/2018 09:52:08 PM        35B   \n",
       "1    201181293         3522  180015424  03/30/2018 01:00:55 AM        35A   \n",
       "2    201181293         3562  180015424  03/30/2018 01:00:55 AM        35A   \n",
       "\n",
       "   Victims            Crime Name1                Crime Name2  \\\n",
       "0        1  Crime Against Society  Drug Equipment Violations   \n",
       "1        1  Crime Against Society   Drug/Narcotic Violations   \n",
       "2        1  Crime Against Society   Drug/Narcotic Violations   \n",
       "\n",
       "                             Crime Name3 Police District Name  ...  \\\n",
       "0       DRUGS - NARCOTIC EQUIP - POSSESS           GERMANTOWN  ...   \n",
       "1  DRUGS - OPIUM OR DERIVATIVE - POSSESS             BETHESDA  ...   \n",
       "2            DRUGS - MARIJUANA - POSSESS             BETHESDA  ...   \n",
       "\n",
       "  Street Prefix  Street Name Street Suffix  Street Type  \\\n",
       "0           NaN  MIDDLEBROOK           NaN           RD   \n",
       "1           NaN     WOODMONT           NaN          AVE   \n",
       "2           NaN     WOODMONT           NaN          AVE   \n",
       "\n",
       "          Start_Date_Time End_Date_Time   Latitude  Longitude  \\\n",
       "0  08/23/2018 09:52:00 PM           NaN  39.177744 -77.265619   \n",
       "1  03/30/2018 01:01:00 AM           NaN  38.992693 -77.097063   \n",
       "2  03/30/2018 01:01:00 AM           NaN  38.992693 -77.097063   \n",
       "\n",
       "  Police District Number             Location  \n",
       "0                     5D  (39.1777, -77.2656)  \n",
       "1                     2D  (38.9927, -77.0971)  \n",
       "2                     2D  (38.9927, -77.0971)  \n",
       "\n",
       "[3 rows x 30 columns]"
      ]
     },
     "execution_count": 19,
     "metadata": {},
     "output_type": "execute_result"
    }
   ],
   "source": [
    "df.head(3)"
   ]
  },
  {
   "cell_type": "markdown",
   "metadata": {},
   "source": [
    "Or want to view the last five:"
   ]
  },
  {
   "cell_type": "code",
   "execution_count": 20,
   "metadata": {},
   "outputs": [
    {
     "data": {
      "text/html": [
       "<div>\n",
       "<style scoped>\n",
       "    .dataframe tbody tr th:only-of-type {\n",
       "        vertical-align: middle;\n",
       "    }\n",
       "\n",
       "    .dataframe tbody tr th {\n",
       "        vertical-align: top;\n",
       "    }\n",
       "\n",
       "    .dataframe thead th {\n",
       "        text-align: right;\n",
       "    }\n",
       "</style>\n",
       "<table border=\"1\" class=\"dataframe\">\n",
       "  <thead>\n",
       "    <tr style=\"text-align: right;\">\n",
       "      <th></th>\n",
       "      <th>Incident ID</th>\n",
       "      <th>Offence Code</th>\n",
       "      <th>CR Number</th>\n",
       "      <th>Dispatch Date / Time</th>\n",
       "      <th>NIBRS Code</th>\n",
       "      <th>Victims</th>\n",
       "      <th>Crime Name1</th>\n",
       "      <th>Crime Name2</th>\n",
       "      <th>Crime Name3</th>\n",
       "      <th>Police District Name</th>\n",
       "      <th>...</th>\n",
       "      <th>Street Prefix</th>\n",
       "      <th>Street Name</th>\n",
       "      <th>Street Suffix</th>\n",
       "      <th>Street Type</th>\n",
       "      <th>Start_Date_Time</th>\n",
       "      <th>End_Date_Time</th>\n",
       "      <th>Latitude</th>\n",
       "      <th>Longitude</th>\n",
       "      <th>Police District Number</th>\n",
       "      <th>Location</th>\n",
       "    </tr>\n",
       "  </thead>\n",
       "  <tbody>\n",
       "    <tr>\n",
       "      <th>306089</th>\n",
       "      <td>201320571</td>\n",
       "      <td>1399</td>\n",
       "      <td>210006666</td>\n",
       "      <td>02/21/2021 07:25:28 AM</td>\n",
       "      <td>13B</td>\n",
       "      <td>1</td>\n",
       "      <td>Crime Against Person</td>\n",
       "      <td>Simple Assault</td>\n",
       "      <td>ASSAULT - 2ND DEGREE</td>\n",
       "      <td>MONTGOMERY VILLAGE</td>\n",
       "      <td>...</td>\n",
       "      <td>NaN</td>\n",
       "      <td>TRANSHIRE</td>\n",
       "      <td>NaN</td>\n",
       "      <td>RD</td>\n",
       "      <td>02/20/2021 08:00:00 PM</td>\n",
       "      <td>NaN</td>\n",
       "      <td>39.172701</td>\n",
       "      <td>-77.197340</td>\n",
       "      <td>6D</td>\n",
       "      <td>(39.1727, -77.1973)</td>\n",
       "    </tr>\n",
       "    <tr>\n",
       "      <th>306090</th>\n",
       "      <td>201329875</td>\n",
       "      <td>2305</td>\n",
       "      <td>210017101</td>\n",
       "      <td>05/06/2021 10:54:47 PM</td>\n",
       "      <td>23F</td>\n",
       "      <td>1</td>\n",
       "      <td>Crime Against Property</td>\n",
       "      <td>Theft From Motor Vehicle</td>\n",
       "      <td>LARCENY - FROM AUTO</td>\n",
       "      <td>WHEATON</td>\n",
       "      <td>...</td>\n",
       "      <td>NaN</td>\n",
       "      <td>ATHERTON</td>\n",
       "      <td>NaN</td>\n",
       "      <td>DR</td>\n",
       "      <td>05/06/2021 03:15:00 AM</td>\n",
       "      <td>NaN</td>\n",
       "      <td>39.059672</td>\n",
       "      <td>-77.075995</td>\n",
       "      <td>4D</td>\n",
       "      <td>(39.0597, -77.076)</td>\n",
       "    </tr>\n",
       "    <tr>\n",
       "      <th>306091</th>\n",
       "      <td>201329751</td>\n",
       "      <td>5016</td>\n",
       "      <td>210016952</td>\n",
       "      <td>05/05/2021 10:38:58 PM</td>\n",
       "      <td>90Z</td>\n",
       "      <td>1</td>\n",
       "      <td>Crime Against Society</td>\n",
       "      <td>All Other Offenses</td>\n",
       "      <td>OBSTRUCT GOVT - VIOLATION OF A COURT ORDER</td>\n",
       "      <td>GERMANTOWN</td>\n",
       "      <td>...</td>\n",
       "      <td>NaN</td>\n",
       "      <td>BALTUSROL</td>\n",
       "      <td>NaN</td>\n",
       "      <td>DR</td>\n",
       "      <td>05/05/2021 10:38:00 PM</td>\n",
       "      <td>NaN</td>\n",
       "      <td>39.199722</td>\n",
       "      <td>-77.273039</td>\n",
       "      <td>5D</td>\n",
       "      <td>(39.1997, -77.273)</td>\n",
       "    </tr>\n",
       "    <tr>\n",
       "      <th>306092</th>\n",
       "      <td>201323117</td>\n",
       "      <td>9099</td>\n",
       "      <td>210009468</td>\n",
       "      <td>03/13/2021 12:07:14 PM</td>\n",
       "      <td>90Z</td>\n",
       "      <td>1</td>\n",
       "      <td>Crime Against Society</td>\n",
       "      <td>All Other Offenses</td>\n",
       "      <td>ALL OTHER OFFENSES</td>\n",
       "      <td>SILVER SPRING</td>\n",
       "      <td>...</td>\n",
       "      <td>NaN</td>\n",
       "      <td>FENTON</td>\n",
       "      <td>NaN</td>\n",
       "      <td>ST</td>\n",
       "      <td>03/13/2021 01:35:00 PM</td>\n",
       "      <td>NaN</td>\n",
       "      <td>38.985813</td>\n",
       "      <td>-77.022915</td>\n",
       "      <td>3D</td>\n",
       "      <td>(38.9858, -77.0229)</td>\n",
       "    </tr>\n",
       "    <tr>\n",
       "      <th>306093</th>\n",
       "      <td>201327806</td>\n",
       "      <td>2305</td>\n",
       "      <td>210014587</td>\n",
       "      <td>04/19/2021 02:17:29 PM</td>\n",
       "      <td>23F</td>\n",
       "      <td>1</td>\n",
       "      <td>Crime Against Property</td>\n",
       "      <td>Theft From Motor Vehicle</td>\n",
       "      <td>LARCENY - FROM AUTO</td>\n",
       "      <td>BETHESDA</td>\n",
       "      <td>...</td>\n",
       "      <td>NaN</td>\n",
       "      <td>NEWPORT MILL</td>\n",
       "      <td>NaN</td>\n",
       "      <td>RD</td>\n",
       "      <td>04/18/2021 04:00:00 PM</td>\n",
       "      <td>04/19/2021 12:00:00 PM</td>\n",
       "      <td>39.037115</td>\n",
       "      <td>-77.072485</td>\n",
       "      <td>2D</td>\n",
       "      <td>(39.0371, -77.0725)</td>\n",
       "    </tr>\n",
       "  </tbody>\n",
       "</table>\n",
       "<p>5 rows × 30 columns</p>\n",
       "</div>"
      ],
      "text/plain": [
       "        Incident ID Offence Code  CR Number    Dispatch Date / Time  \\\n",
       "306089    201320571         1399  210006666  02/21/2021 07:25:28 AM   \n",
       "306090    201329875         2305  210017101  05/06/2021 10:54:47 PM   \n",
       "306091    201329751         5016  210016952  05/05/2021 10:38:58 PM   \n",
       "306092    201323117         9099  210009468  03/13/2021 12:07:14 PM   \n",
       "306093    201327806         2305  210014587  04/19/2021 02:17:29 PM   \n",
       "\n",
       "       NIBRS Code  Victims             Crime Name1               Crime Name2  \\\n",
       "306089        13B        1    Crime Against Person            Simple Assault   \n",
       "306090        23F        1  Crime Against Property  Theft From Motor Vehicle   \n",
       "306091        90Z        1   Crime Against Society        All Other Offenses   \n",
       "306092        90Z        1   Crime Against Society        All Other Offenses   \n",
       "306093        23F        1  Crime Against Property  Theft From Motor Vehicle   \n",
       "\n",
       "                                       Crime Name3 Police District Name  ...  \\\n",
       "306089                        ASSAULT - 2ND DEGREE   MONTGOMERY VILLAGE  ...   \n",
       "306090                         LARCENY - FROM AUTO              WHEATON  ...   \n",
       "306091  OBSTRUCT GOVT - VIOLATION OF A COURT ORDER           GERMANTOWN  ...   \n",
       "306092                          ALL OTHER OFFENSES        SILVER SPRING  ...   \n",
       "306093                         LARCENY - FROM AUTO             BETHESDA  ...   \n",
       "\n",
       "       Street Prefix   Street Name Street Suffix  Street Type  \\\n",
       "306089           NaN     TRANSHIRE           NaN           RD   \n",
       "306090           NaN      ATHERTON           NaN           DR   \n",
       "306091           NaN     BALTUSROL           NaN           DR   \n",
       "306092           NaN        FENTON           NaN           ST   \n",
       "306093           NaN  NEWPORT MILL           NaN           RD   \n",
       "\n",
       "               Start_Date_Time           End_Date_Time   Latitude  Longitude  \\\n",
       "306089  02/20/2021 08:00:00 PM                     NaN  39.172701 -77.197340   \n",
       "306090  05/06/2021 03:15:00 AM                     NaN  39.059672 -77.075995   \n",
       "306091  05/05/2021 10:38:00 PM                     NaN  39.199722 -77.273039   \n",
       "306092  03/13/2021 01:35:00 PM                     NaN  38.985813 -77.022915   \n",
       "306093  04/18/2021 04:00:00 PM  04/19/2021 12:00:00 PM  39.037115 -77.072485   \n",
       "\n",
       "       Police District Number             Location  \n",
       "306089                     6D  (39.1727, -77.1973)  \n",
       "306090                     4D   (39.0597, -77.076)  \n",
       "306091                     5D   (39.1997, -77.273)  \n",
       "306092                     3D  (38.9858, -77.0229)  \n",
       "306093                     2D  (39.0371, -77.0725)  \n",
       "\n",
       "[5 rows x 30 columns]"
      ]
     },
     "execution_count": 20,
     "metadata": {},
     "output_type": "execute_result"
    }
   ],
   "source": [
    "df.tail()"
   ]
  },
  {
   "cell_type": "markdown",
   "metadata": {},
   "source": [
    "# The difference between .loc and .iloc"
   ]
  },
  {
   "cell_type": "code",
   "execution_count": 21,
   "metadata": {},
   "outputs": [
    {
     "data": {
      "text/plain": [
       "<Axes: xlabel='Crime Name1'>"
      ]
     },
     "execution_count": 21,
     "metadata": {},
     "output_type": "execute_result"
    },
    {
     "data": {
      "image/png": "[encoded data removed]",
      "text/plain": [
       "<Figure size 640x480 with 1 Axes>"
      ]
     },
     "metadata": {},
     "output_type": "display_data"
    }
   ],
   "source": [
    "df['Crime Name1'].value_counts().plot(kind=\"bar\")"
   ]
  },
  {
   "cell_type": "code",
   "execution_count": 22,
   "metadata": {},
   "outputs": [
    {
     "name": "stdout",
     "output_type": "stream",
     "text": [
      "Requirement already satisfied: seaborn in /Users/jonathanjagdon/Desktop/ITSC3162DataMining/.venv/lib/python3.9/site-packages (0.13.2)\n",
      "Requirement already satisfied: numpy!=1.24.0,>=1.20 in /Users/jonathanjagdon/Desktop/ITSC3162DataMining/.venv/lib/python3.9/site-packages (from seaborn) (2.0.2)\n",
      "Requirement already satisfied: pandas>=1.2 in /Users/jonathanjagdon/Desktop/ITSC3162DataMining/.venv/lib/python3.9/site-packages (from seaborn) (2.3.2)\n",
      "Requirement already satisfied: matplotlib!=3.6.1,>=3.4 in /Users/jonathanjagdon/Desktop/ITSC3162DataMining/.venv/lib/python3.9/site-packages (from seaborn) (3.9.4)\n",
      "Requirement already satisfied: contourpy>=1.0.1 in /Users/jonathanjagdon/Desktop/ITSC3162DataMining/.venv/lib/python3.9/site-packages (from matplotlib!=3.6.1,>=3.4->seaborn) (1.3.0)\n",
      "Requirement already satisfied: cycler>=0.10 in /Users/jonathanjagdon/Desktop/ITSC3162DataMining/.venv/lib/python3.9/site-packages (from matplotlib!=3.6.1,>=3.4->seaborn) (0.12.1)\n",
      "Requirement already satisfied: fonttools>=4.22.0 in /Users/jonathanjagdon/Desktop/ITSC3162DataMining/.venv/lib/python3.9/site-packages (from matplotlib!=3.6.1,>=3.4->seaborn) (4.59.2)\n",
      "Requirement already satisfied: kiwisolver>=1.3.1 in /Users/jonathanjagdon/Desktop/ITSC3162DataMining/.venv/lib/python3.9/site-packages (from matplotlib!=3.6.1,>=3.4->seaborn) (1.4.7)\n",
      "Requirement already satisfied: packaging>=20.0 in /Users/jonathanjagdon/Desktop/ITSC3162DataMining/.venv/lib/python3.9/site-packages (from matplotlib!=3.6.1,>=3.4->seaborn) (25.0)\n",
      "Requirement already satisfied: pillow>=8 in /Users/jonathanjagdon/Desktop/ITSC3162DataMining/.venv/lib/python3.9/site-packages (from matplotlib!=3.6.1,>=3.4->seaborn) (11.3.0)\n",
      "Requirement already satisfied: pyparsing>=2.3.1 in /Users/jonathanjagdon/Desktop/ITSC3162DataMining/.venv/lib/python3.9/site-packages (from matplotlib!=3.6.1,>=3.4->seaborn) (3.2.3)\n",
      "Requirement already satisfied: python-dateutil>=2.7 in /Users/jonathanjagdon/Desktop/ITSC3162DataMining/.venv/lib/python3.9/site-packages (from matplotlib!=3.6.1,>=3.4->seaborn) (2.9.0.post0)\n",
      "Requirement already satisfied: importlib-resources>=3.2.0 in /Users/jonathanjagdon/Desktop/ITSC3162DataMining/.venv/lib/python3.9/site-packages (from matplotlib!=3.6.1,>=3.4->seaborn) (6.5.2)\n",
      "Requirement already satisfied: zipp>=3.1.0 in /Users/jonathanjagdon/Desktop/ITSC3162DataMining/.venv/lib/python3.9/site-packages (from importlib-resources>=3.2.0->matplotlib!=3.6.1,>=3.4->seaborn) (3.23.0)\n",
      "Requirement already satisfied: pytz>=2020.1 in /Users/jonathanjagdon/Desktop/ITSC3162DataMining/.venv/lib/python3.9/site-packages (from pandas>=1.2->seaborn) (2025.2)\n",
      "Requirement already satisfied: tzdata>=2022.7 in /Users/jonathanjagdon/Desktop/ITSC3162DataMining/.venv/lib/python3.9/site-packages (from pandas>=1.2->seaborn) (2025.2)\n",
      "Requirement already satisfied: six>=1.5 in /Users/jonathanjagdon/Desktop/ITSC3162DataMining/.venv/lib/python3.9/site-packages (from python-dateutil>=2.7->matplotlib!=3.6.1,>=3.4->seaborn) (1.17.0)\n"
     ]
    }
   ],
   "source": [
    "!pip install seaborn"
   ]
  },
  {
   "cell_type": "code",
   "execution_count": 23,
   "metadata": {},
   "outputs": [],
   "source": [
    "import seaborn as sns"
   ]
  },
  {
   "cell_type": "code",
   "execution_count": 24,
   "metadata": {},
   "outputs": [],
   "source": [
    "import numpy as np\n",
    "import matplotlib.pyplot as plt"
   ]
  },
  {
   "cell_type": "code",
   "execution_count": 25,
   "metadata": {},
   "outputs": [
    {
     "data": {
      "text/plain": [
       "Index(['Incident ID', 'Offence Code', 'CR Number', 'Dispatch Date / Time',\n",
       "       'NIBRS Code', 'Victims', 'Crime Name1', 'Crime Name2', 'Crime Name3',\n",
       "       'Police District Name', 'Block Address', 'City', 'State', 'Zip Code',\n",
       "       'Agency', 'Place', 'Sector', 'Beat', 'PRA', 'Address Number',\n",
       "       'Street Prefix', 'Street Name', 'Street Suffix', 'Street Type',\n",
       "       'Start_Date_Time', 'End_Date_Time', 'Latitude', 'Longitude',\n",
       "       'Police District Number', 'Location'],\n",
       "      dtype='object')"
      ]
     },
     "execution_count": 25,
     "metadata": {},
     "output_type": "execute_result"
    }
   ],
   "source": [
    "df.columns"
   ]
  },
  {
   "cell_type": "code",
   "execution_count": 26,
   "metadata": {},
   "outputs": [
    {
     "name": "stderr",
     "output_type": "stream",
     "text": [
      "/var/folders/l9/70smnm5938z_dx4_7tr0tn8w0000gn/T/ipykernel_99424/4114952573.py:1: UserWarning: Could not infer format, so each element will be parsed individually, falling back to `dateutil`. To ensure parsing is consistent and as-expected, please specify a format.\n",
      "  df['date'] = pd.to_datetime(df['Dispatch Date / Time'])\n"
     ]
    }
   ],
   "source": [
    "df['date'] = pd.to_datetime(df['Dispatch Date / Time'])"
   ]
  },
  {
   "cell_type": "code",
   "execution_count": 27,
   "metadata": {},
   "outputs": [],
   "source": [
    "df['month'] = df['date'].apply(lambda x: x.month_name())"
   ]
  },
  {
   "cell_type": "code",
   "execution_count": 28,
   "metadata": {},
   "outputs": [
    {
     "data": {
      "text/plain": [
       "0            August\n",
       "1             March\n",
       "2             March\n",
       "3              June\n",
       "4         September\n",
       "            ...    \n",
       "306089     February\n",
       "306090          May\n",
       "306091          May\n",
       "306092        March\n",
       "306093        April\n",
       "Name: month, Length: 306094, dtype: object"
      ]
     },
     "execution_count": 28,
     "metadata": {},
     "output_type": "execute_result"
    }
   ],
   "source": [
    "df['month']"
   ]
  },
  {
   "cell_type": "code",
   "execution_count": 29,
   "metadata": {},
   "outputs": [],
   "source": [
    "df['day_name'] = df['date'].apply(lambda x: x.day_name())"
   ]
  },
  {
   "cell_type": "code",
   "execution_count": 30,
   "metadata": {},
   "outputs": [
    {
     "data": {
      "text/plain": [
       "0          Thursday\n",
       "1            Friday\n",
       "2            Friday\n",
       "3          Thursday\n",
       "4            Monday\n",
       "            ...    \n",
       "306089       Sunday\n",
       "306090     Thursday\n",
       "306091    Wednesday\n",
       "306092     Saturday\n",
       "306093       Monday\n",
       "Name: day_name, Length: 306094, dtype: object"
      ]
     },
     "execution_count": 30,
     "metadata": {},
     "output_type": "execute_result"
    }
   ],
   "source": [
    "df['day_name']"
   ]
  },
  {
   "cell_type": "code",
   "execution_count": 31,
   "metadata": {},
   "outputs": [],
   "source": [
    "df['hour'] = df['date'].apply(lambda x: x.hour)"
   ]
  },
  {
   "cell_type": "code",
   "execution_count": 32,
   "metadata": {},
   "outputs": [
    {
     "data": {
      "text/plain": [
       "0         21.0\n",
       "1          1.0\n",
       "2          1.0\n",
       "3         22.0\n",
       "4         12.0\n",
       "          ... \n",
       "306089     7.0\n",
       "306090    22.0\n",
       "306091    22.0\n",
       "306092    12.0\n",
       "306093    14.0\n",
       "Name: hour, Length: 306094, dtype: float64"
      ]
     },
     "execution_count": 32,
     "metadata": {},
     "output_type": "execute_result"
    }
   ],
   "source": [
    "df['hour']"
   ]
  },
  {
   "cell_type": "code",
   "execution_count": 33,
   "metadata": {},
   "outputs": [
    {
     "data": {
      "text/html": [
       "<div>\n",
       "<style scoped>\n",
       "    .dataframe tbody tr th:only-of-type {\n",
       "        vertical-align: middle;\n",
       "    }\n",
       "\n",
       "    .dataframe tbody tr th {\n",
       "        vertical-align: top;\n",
       "    }\n",
       "\n",
       "    .dataframe thead th {\n",
       "        text-align: right;\n",
       "    }\n",
       "</style>\n",
       "<table border=\"1\" class=\"dataframe\">\n",
       "  <thead>\n",
       "    <tr style=\"text-align: right;\">\n",
       "      <th></th>\n",
       "      <th>Incident ID</th>\n",
       "      <th>Offence Code</th>\n",
       "      <th>CR Number</th>\n",
       "      <th>Dispatch Date / Time</th>\n",
       "      <th>NIBRS Code</th>\n",
       "      <th>Victims</th>\n",
       "      <th>Crime Name1</th>\n",
       "      <th>Crime Name2</th>\n",
       "      <th>Crime Name3</th>\n",
       "      <th>Police District Name</th>\n",
       "      <th>...</th>\n",
       "      <th>Start_Date_Time</th>\n",
       "      <th>End_Date_Time</th>\n",
       "      <th>Latitude</th>\n",
       "      <th>Longitude</th>\n",
       "      <th>Police District Number</th>\n",
       "      <th>Location</th>\n",
       "      <th>date</th>\n",
       "      <th>month</th>\n",
       "      <th>day_name</th>\n",
       "      <th>hour</th>\n",
       "    </tr>\n",
       "  </thead>\n",
       "  <tbody>\n",
       "    <tr>\n",
       "      <th>0</th>\n",
       "      <td>201202980</td>\n",
       "      <td>3550</td>\n",
       "      <td>180042096</td>\n",
       "      <td>08/23/2018 09:52:08 PM</td>\n",
       "      <td>35B</td>\n",
       "      <td>1</td>\n",
       "      <td>Crime Against Society</td>\n",
       "      <td>Drug Equipment Violations</td>\n",
       "      <td>DRUGS - NARCOTIC EQUIP - POSSESS</td>\n",
       "      <td>GERMANTOWN</td>\n",
       "      <td>...</td>\n",
       "      <td>08/23/2018 09:52:00 PM</td>\n",
       "      <td>NaN</td>\n",
       "      <td>39.177744</td>\n",
       "      <td>-77.265619</td>\n",
       "      <td>5D</td>\n",
       "      <td>(39.1777, -77.2656)</td>\n",
       "      <td>2018-08-23 21:52:08</td>\n",
       "      <td>August</td>\n",
       "      <td>Thursday</td>\n",
       "      <td>21.0</td>\n",
       "    </tr>\n",
       "    <tr>\n",
       "      <th>1</th>\n",
       "      <td>201181293</td>\n",
       "      <td>3522</td>\n",
       "      <td>180015424</td>\n",
       "      <td>03/30/2018 01:00:55 AM</td>\n",
       "      <td>35A</td>\n",
       "      <td>1</td>\n",
       "      <td>Crime Against Society</td>\n",
       "      <td>Drug/Narcotic Violations</td>\n",
       "      <td>DRUGS - OPIUM OR DERIVATIVE - POSSESS</td>\n",
       "      <td>BETHESDA</td>\n",
       "      <td>...</td>\n",
       "      <td>03/30/2018 01:01:00 AM</td>\n",
       "      <td>NaN</td>\n",
       "      <td>38.992693</td>\n",
       "      <td>-77.097063</td>\n",
       "      <td>2D</td>\n",
       "      <td>(38.9927, -77.0971)</td>\n",
       "      <td>2018-03-30 01:00:55</td>\n",
       "      <td>March</td>\n",
       "      <td>Friday</td>\n",
       "      <td>1.0</td>\n",
       "    </tr>\n",
       "    <tr>\n",
       "      <th>2</th>\n",
       "      <td>201181293</td>\n",
       "      <td>3562</td>\n",
       "      <td>180015424</td>\n",
       "      <td>03/30/2018 01:00:55 AM</td>\n",
       "      <td>35A</td>\n",
       "      <td>1</td>\n",
       "      <td>Crime Against Society</td>\n",
       "      <td>Drug/Narcotic Violations</td>\n",
       "      <td>DRUGS - MARIJUANA - POSSESS</td>\n",
       "      <td>BETHESDA</td>\n",
       "      <td>...</td>\n",
       "      <td>03/30/2018 01:01:00 AM</td>\n",
       "      <td>NaN</td>\n",
       "      <td>38.992693</td>\n",
       "      <td>-77.097063</td>\n",
       "      <td>2D</td>\n",
       "      <td>(38.9927, -77.0971)</td>\n",
       "      <td>2018-03-30 01:00:55</td>\n",
       "      <td>March</td>\n",
       "      <td>Friday</td>\n",
       "      <td>1.0</td>\n",
       "    </tr>\n",
       "    <tr>\n",
       "      <th>3</th>\n",
       "      <td>201193163</td>\n",
       "      <td>3520</td>\n",
       "      <td>180029476</td>\n",
       "      <td>06/14/2018 10:26:45 PM</td>\n",
       "      <td>35A</td>\n",
       "      <td>1</td>\n",
       "      <td>Crime Against Society</td>\n",
       "      <td>Drug/Narcotic Violations</td>\n",
       "      <td>DRUGS - OPIUM OR DERIVATIVE - SELL</td>\n",
       "      <td>MONTGOMERY VILLAGE</td>\n",
       "      <td>...</td>\n",
       "      <td>06/14/2018 10:26:00 PM</td>\n",
       "      <td>06/15/2018 03:00:00 AM</td>\n",
       "      <td>39.147954</td>\n",
       "      <td>-77.218189</td>\n",
       "      <td>6D</td>\n",
       "      <td>(39.148, -77.2182)</td>\n",
       "      <td>2018-06-14 22:26:45</td>\n",
       "      <td>June</td>\n",
       "      <td>Thursday</td>\n",
       "      <td>22.0</td>\n",
       "    </tr>\n",
       "    <tr>\n",
       "      <th>4</th>\n",
       "      <td>201204355</td>\n",
       "      <td>2204</td>\n",
       "      <td>180043926</td>\n",
       "      <td>09/03/2018 12:06:54 PM</td>\n",
       "      <td>220</td>\n",
       "      <td>1</td>\n",
       "      <td>Crime Against Property</td>\n",
       "      <td>Burglary/Breaking and Entering</td>\n",
       "      <td>BURGLARY - NO FORCED ENTRY-RESIDENTIAL</td>\n",
       "      <td>BETHESDA</td>\n",
       "      <td>...</td>\n",
       "      <td>09/02/2018 11:30:00 PM</td>\n",
       "      <td>09/03/2018 12:30:00 AM</td>\n",
       "      <td>38.966174</td>\n",
       "      <td>-77.096561</td>\n",
       "      <td>2D</td>\n",
       "      <td>(38.9662, -77.0966)</td>\n",
       "      <td>2018-09-03 12:06:54</td>\n",
       "      <td>September</td>\n",
       "      <td>Monday</td>\n",
       "      <td>12.0</td>\n",
       "    </tr>\n",
       "  </tbody>\n",
       "</table>\n",
       "<p>5 rows × 34 columns</p>\n",
       "</div>"
      ],
      "text/plain": [
       "   Incident ID Offence Code  CR Number    Dispatch Date / Time NIBRS Code  \\\n",
       "0    201202980         3550  180042096  08/23/2018 09:52:08 PM        35B   \n",
       "1    201181293         3522  180015424  03/30/2018 01:00:55 AM        35A   \n",
       "2    201181293         3562  180015424  03/30/2018 01:00:55 AM        35A   \n",
       "3    201193163         3520  180029476  06/14/2018 10:26:45 PM        35A   \n",
       "4    201204355         2204  180043926  09/03/2018 12:06:54 PM        220   \n",
       "\n",
       "   Victims             Crime Name1                     Crime Name2  \\\n",
       "0        1   Crime Against Society       Drug Equipment Violations   \n",
       "1        1   Crime Against Society        Drug/Narcotic Violations   \n",
       "2        1   Crime Against Society        Drug/Narcotic Violations   \n",
       "3        1   Crime Against Society        Drug/Narcotic Violations   \n",
       "4        1  Crime Against Property  Burglary/Breaking and Entering   \n",
       "\n",
       "                              Crime Name3 Police District Name  ...  \\\n",
       "0        DRUGS - NARCOTIC EQUIP - POSSESS           GERMANTOWN  ...   \n",
       "1   DRUGS - OPIUM OR DERIVATIVE - POSSESS             BETHESDA  ...   \n",
       "2             DRUGS - MARIJUANA - POSSESS             BETHESDA  ...   \n",
       "3      DRUGS - OPIUM OR DERIVATIVE - SELL   MONTGOMERY VILLAGE  ...   \n",
       "4  BURGLARY - NO FORCED ENTRY-RESIDENTIAL             BETHESDA  ...   \n",
       "\n",
       "          Start_Date_Time           End_Date_Time   Latitude  Longitude  \\\n",
       "0  08/23/2018 09:52:00 PM                     NaN  39.177744 -77.265619   \n",
       "1  03/30/2018 01:01:00 AM                     NaN  38.992693 -77.097063   \n",
       "2  03/30/2018 01:01:00 AM                     NaN  38.992693 -77.097063   \n",
       "3  06/14/2018 10:26:00 PM  06/15/2018 03:00:00 AM  39.147954 -77.218189   \n",
       "4  09/02/2018 11:30:00 PM  09/03/2018 12:30:00 AM  38.966174 -77.096561   \n",
       "\n",
       "  Police District Number             Location                date      month  \\\n",
       "0                     5D  (39.1777, -77.2656) 2018-08-23 21:52:08     August   \n",
       "1                     2D  (38.9927, -77.0971) 2018-03-30 01:00:55      March   \n",
       "2                     2D  (38.9927, -77.0971) 2018-03-30 01:00:55      March   \n",
       "3                     6D   (39.148, -77.2182) 2018-06-14 22:26:45       June   \n",
       "4                     2D  (38.9662, -77.0966) 2018-09-03 12:06:54  September   \n",
       "\n",
       "   day_name  hour  \n",
       "0  Thursday  21.0  \n",
       "1    Friday   1.0  \n",
       "2    Friday   1.0  \n",
       "3  Thursday  22.0  \n",
       "4    Monday  12.0  \n",
       "\n",
       "[5 rows x 34 columns]"
      ]
     },
     "execution_count": 33,
     "metadata": {},
     "output_type": "execute_result"
    }
   ],
   "source": [
    "df.head()"
   ]
  },
  {
   "cell_type": "code",
   "execution_count": 34,
   "metadata": {},
   "outputs": [],
   "source": [
    "df_filter = df[df['Crime Name1'] != 'not a crime']"
   ]
  },
  {
   "cell_type": "code",
   "execution_count": 35,
   "metadata": {},
   "outputs": [
    {
     "data": {
      "text/plain": [
       "(306094, 34)"
      ]
     },
     "execution_count": 35,
     "metadata": {},
     "output_type": "execute_result"
    }
   ],
   "source": [
    "df_filter.shape"
   ]
  },
  {
   "cell_type": "code",
   "execution_count": 36,
   "metadata": {},
   "outputs": [
    {
     "data": {
      "text/plain": [
       "<Axes: xlabel='hour', ylabel='count'>"
      ]
     },
     "execution_count": 36,
     "metadata": {},
     "output_type": "execute_result"
    },
    {
     "data": {
      "image/png": "[encoded data removed]",
      "text/plain": [
       "<Figure size 640x480 with 1 Axes>"
      ]
     },
     "metadata": {},
     "output_type": "display_data"
    }
   ],
   "source": [
    "sns.countplot(x='hour', data=df_filter)"
   ]
  },
  {
   "cell_type": "code",
   "execution_count": 37,
   "metadata": {},
   "outputs": [
    {
     "data": {
      "text/plain": [
       "array(['Crime Against Society', 'Crime Against Property',\n",
       "       'Crime Against Person', 'Other', 'Not a Crime', nan], dtype=object)"
      ]
     },
     "execution_count": 37,
     "metadata": {},
     "output_type": "execute_result"
    }
   ],
   "source": [
    "df_filter['Crime Name1'].unique()"
   ]
  },
  {
   "cell_type": "code",
   "execution_count": 38,
   "metadata": {},
   "outputs": [
    {
     "data": {
      "image/png": "[encoded data removed]",
      "text/plain": [
       "<Figure size 640x480 with 1 Axes>"
      ]
     },
     "metadata": {},
     "output_type": "display_data"
    }
   ],
   "source": [
    "sns.countplot(x='hour', data=df[df['Crime Name1'] == 'Crime Against Society'])\n",
    "plt.xticks(rotation = 90)\n",
    "plt.show()"
   ]
  },
  {
   "cell_type": "code",
   "execution_count": 39,
   "metadata": {},
   "outputs": [
    {
     "name": "stdout",
     "output_type": "stream",
     "text": [
      "Index(['Incident ID', 'Offence Code', 'CR Number', 'Dispatch Date / Time',\n",
      "       'NIBRS Code', 'Victims', 'Crime Name1', 'Crime Name2', 'Crime Name3',\n",
      "       'Police District Name', 'Block Address', 'City', 'State', 'Zip Code',\n",
      "       'Agency', 'Place', 'Sector', 'Beat', 'PRA', 'Address Number',\n",
      "       'Street Prefix', 'Street Name', 'Street Suffix', 'Street Type',\n",
      "       'Start_Date_Time', 'End_Date_Time', 'Latitude', 'Longitude',\n",
      "       'Police District Number', 'Location', 'date', 'month', 'day_name',\n",
      "       'hour'],\n",
      "      dtype='object')\n"
     ]
    }
   ],
   "source": [
    "print(df.columns)"
   ]
  },
  {
   "cell_type": "markdown",
   "metadata": {},
   "source": [
    "# Three Visualizations!"
   ]
  },
  {
   "cell_type": "code",
   "execution_count": 40,
   "metadata": {},
   "outputs": [
    {
     "data": {
      "image/png": "[encoded data removed]",
      "text/plain": [
       "<Figure size 640x480 with 1 Axes>"
      ]
     },
     "metadata": {},
     "output_type": "display_data"
    }
   ],
   "source": [
    "sns.countplot(x='hour', data=df[df['Crime Name1'] == 'Crime Against Property'])\n",
    "ax = plt.gca()\n",
    "ax.set_title(\"Counts of Crimes Against Property per Hour of Day\")\n",
    "plt.xticks(rotation = 90)\n",
    "plt.show()"
   ]
  },
  {
   "cell_type": "code",
   "execution_count": 41,
   "metadata": {},
   "outputs": [
    {
     "data": {
      "image/png": "[encoded data removed]",
      "text/plain": [
       "<Figure size 1200x600 with 1 Axes>"
      ]
     },
     "metadata": {},
     "output_type": "display_data"
    }
   ],
   "source": [
    "df.boxplot(column = 'Victims', by = 'Police District Name', figsize = (12,6))\n",
    "plt.title(\"Boxplot of Victims by Crime Type\")\n",
    "plt.suptitle(\"\")\n",
    "plt.xlabel(\"Crime Type\")\n",
    "plt.ylabel(\"Number of Victims\")\n",
    "plt.xticks(rotation = 45, ha = 'right')\n",
    "plt.show()"
   ]
  },
  {
   "cell_type": "code",
   "execution_count": 42,
   "metadata": {},
   "outputs": [
    {
     "data": {
      "image/png": "[encoded data removed]",
      "text/plain": [
       "<Figure size 800x800 with 1 Axes>"
      ]
     },
     "metadata": {},
     "output_type": "display_data"
    }
   ],
   "source": [
    "plt.figure(figsize=(8,8))\n",
    "df['Crime Name1'].value_counts().head(5).plot.pie(autopct='%1.1f%%')\n",
    "plt.title(\"Top 5 Crime Categories\")\n",
    "plt.ylabel(\"\")  \n",
    "plt.show()"
   ]
  }
 ],
 "metadata": {
  "kernelspec": {
   "display_name": ".venv",
   "language": "python",
   "name": "python3"
  },
  "language_info": {
   "codemirror_mode": {
    "name": "ipython",
    "version": 3
   },
   "file_extension": ".py",
   "mimetype": "text/x-python",
   "name": "python",
   "nbconvert_exporter": "python",
   "pygments_lexer": "ipython3",
   "version": "3.9.6"
  }
 },
 "nbformat": 4,
 "nbformat_minor": 2
}
